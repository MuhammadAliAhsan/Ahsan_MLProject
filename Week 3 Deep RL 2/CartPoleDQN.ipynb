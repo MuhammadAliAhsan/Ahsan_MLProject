{
  "nbformat": 4,
  "nbformat_minor": 0,
  "metadata": {
    "colab": {
      "name": "CartPoleDQN.ipynb",
      "provenance": [],
      "collapsed_sections": [],
      "include_colab_link": true
    },
    "kernelspec": {
      "name": "python3",
      "display_name": "Python 3"
    }
  },
  "cells": [
    {
      "cell_type": "markdown",
      "metadata": {
        "id": "view-in-github",
        "colab_type": "text"
      },
      "source": [
        "<a href=\"https://colab.research.google.com/github/MuhammadAliAhsan/Ahsan_MLProject/blob/main/Week%203%20Deep%20RL%202/CartPoleDQN.ipynb\" target=\"_parent\"><img src=\"https://colab.research.google.com/assets/colab-badge.svg\" alt=\"Open In Colab\"/></a>"
      ]
    },
    {
      "cell_type": "markdown",
      "metadata": {
        "id": "VKK5DA390wRe"
      },
      "source": [
        "# Deep Q Network (DQN) for CartPole Using Boltzmann Q Policy\n",
        "This exercise implements a DQN for CartPole using a Boltzmann Q policy for selecting the actions"
      ]
    },
    {
      "cell_type": "code",
      "metadata": {
        "id": "LGsC7cJ5jNcX",
        "colab": {
          "base_uri": "https://localhost:8080/"
        },
        "outputId": "928043b4-e550-40f0-fc48-545ffa3acde0"
      },
      "source": [
        "# install keras rl2 (we need to install keras-rl2 so it works with the tensorflow 2 version that comes pre-installed with colab)\n",
        "!pip install keras-rl2"
      ],
      "execution_count": 88,
      "outputs": [
        {
          "output_type": "stream",
          "name": "stdout",
          "text": [
            "Requirement already satisfied: keras-rl2 in /usr/local/lib/python3.7/dist-packages (1.0.5)\n",
            "Requirement already satisfied: tensorflow in /usr/local/lib/python3.7/dist-packages (from keras-rl2) (2.8.0)\n",
            "Requirement already satisfied: typing-extensions>=3.6.6 in /usr/local/lib/python3.7/dist-packages (from tensorflow->keras-rl2) (3.10.0.2)\n",
            "Requirement already satisfied: six>=1.12.0 in /usr/local/lib/python3.7/dist-packages (from tensorflow->keras-rl2) (1.15.0)\n",
            "Requirement already satisfied: tensorflow-io-gcs-filesystem>=0.23.1 in /usr/local/lib/python3.7/dist-packages (from tensorflow->keras-rl2) (0.24.0)\n",
            "Requirement already satisfied: opt-einsum>=2.3.2 in /usr/local/lib/python3.7/dist-packages (from tensorflow->keras-rl2) (3.3.0)\n",
            "Requirement already satisfied: google-pasta>=0.1.1 in /usr/local/lib/python3.7/dist-packages (from tensorflow->keras-rl2) (0.2.0)\n",
            "Requirement already satisfied: wrapt>=1.11.0 in /usr/local/lib/python3.7/dist-packages (from tensorflow->keras-rl2) (1.14.0)\n",
            "Requirement already satisfied: h5py>=2.9.0 in /usr/local/lib/python3.7/dist-packages (from tensorflow->keras-rl2) (3.1.0)\n",
            "Requirement already satisfied: tf-estimator-nightly==2.8.0.dev2021122109 in /usr/local/lib/python3.7/dist-packages (from tensorflow->keras-rl2) (2.8.0.dev2021122109)\n",
            "Requirement already satisfied: gast>=0.2.1 in /usr/local/lib/python3.7/dist-packages (from tensorflow->keras-rl2) (0.5.3)\n",
            "Requirement already satisfied: libclang>=9.0.1 in /usr/local/lib/python3.7/dist-packages (from tensorflow->keras-rl2) (13.0.0)\n",
            "Requirement already satisfied: grpcio<2.0,>=1.24.3 in /usr/local/lib/python3.7/dist-packages (from tensorflow->keras-rl2) (1.44.0)\n",
            "Requirement already satisfied: tensorboard<2.9,>=2.8 in /usr/local/lib/python3.7/dist-packages (from tensorflow->keras-rl2) (2.8.0)\n",
            "Requirement already satisfied: astunparse>=1.6.0 in /usr/local/lib/python3.7/dist-packages (from tensorflow->keras-rl2) (1.6.3)\n",
            "Requirement already satisfied: keras<2.9,>=2.8.0rc0 in /usr/local/lib/python3.7/dist-packages (from tensorflow->keras-rl2) (2.8.0)\n",
            "Requirement already satisfied: keras-preprocessing>=1.1.1 in /usr/local/lib/python3.7/dist-packages (from tensorflow->keras-rl2) (1.1.2)\n",
            "Requirement already satisfied: flatbuffers>=1.12 in /usr/local/lib/python3.7/dist-packages (from tensorflow->keras-rl2) (2.0)\n",
            "Requirement already satisfied: protobuf>=3.9.2 in /usr/local/lib/python3.7/dist-packages (from tensorflow->keras-rl2) (3.17.3)\n",
            "Requirement already satisfied: setuptools in /usr/local/lib/python3.7/dist-packages (from tensorflow->keras-rl2) (57.4.0)\n",
            "Requirement already satisfied: termcolor>=1.1.0 in /usr/local/lib/python3.7/dist-packages (from tensorflow->keras-rl2) (1.1.0)\n",
            "Requirement already satisfied: absl-py>=0.4.0 in /usr/local/lib/python3.7/dist-packages (from tensorflow->keras-rl2) (1.0.0)\n",
            "Requirement already satisfied: numpy>=1.20 in /usr/local/lib/python3.7/dist-packages (from tensorflow->keras-rl2) (1.21.5)\n",
            "Requirement already satisfied: wheel<1.0,>=0.23.0 in /usr/local/lib/python3.7/dist-packages (from astunparse>=1.6.0->tensorflow->keras-rl2) (0.37.1)\n",
            "Requirement already satisfied: cached-property in /usr/local/lib/python3.7/dist-packages (from h5py>=2.9.0->tensorflow->keras-rl2) (1.5.2)\n",
            "Requirement already satisfied: werkzeug>=0.11.15 in /usr/local/lib/python3.7/dist-packages (from tensorboard<2.9,>=2.8->tensorflow->keras-rl2) (1.0.1)\n",
            "Requirement already satisfied: google-auth-oauthlib<0.5,>=0.4.1 in /usr/local/lib/python3.7/dist-packages (from tensorboard<2.9,>=2.8->tensorflow->keras-rl2) (0.4.6)\n",
            "Requirement already satisfied: markdown>=2.6.8 in /usr/local/lib/python3.7/dist-packages (from tensorboard<2.9,>=2.8->tensorflow->keras-rl2) (3.3.6)\n",
            "Requirement already satisfied: requests<3,>=2.21.0 in /usr/local/lib/python3.7/dist-packages (from tensorboard<2.9,>=2.8->tensorflow->keras-rl2) (2.23.0)\n",
            "Requirement already satisfied: tensorboard-plugin-wit>=1.6.0 in /usr/local/lib/python3.7/dist-packages (from tensorboard<2.9,>=2.8->tensorflow->keras-rl2) (1.8.1)\n",
            "Requirement already satisfied: google-auth<3,>=1.6.3 in /usr/local/lib/python3.7/dist-packages (from tensorboard<2.9,>=2.8->tensorflow->keras-rl2) (1.35.0)\n",
            "Requirement already satisfied: tensorboard-data-server<0.7.0,>=0.6.0 in /usr/local/lib/python3.7/dist-packages (from tensorboard<2.9,>=2.8->tensorflow->keras-rl2) (0.6.1)\n",
            "Requirement already satisfied: pyasn1-modules>=0.2.1 in /usr/local/lib/python3.7/dist-packages (from google-auth<3,>=1.6.3->tensorboard<2.9,>=2.8->tensorflow->keras-rl2) (0.2.8)\n",
            "Requirement already satisfied: rsa<5,>=3.1.4 in /usr/local/lib/python3.7/dist-packages (from google-auth<3,>=1.6.3->tensorboard<2.9,>=2.8->tensorflow->keras-rl2) (4.8)\n",
            "Requirement already satisfied: cachetools<5.0,>=2.0.0 in /usr/local/lib/python3.7/dist-packages (from google-auth<3,>=1.6.3->tensorboard<2.9,>=2.8->tensorflow->keras-rl2) (4.2.4)\n",
            "Requirement already satisfied: requests-oauthlib>=0.7.0 in /usr/local/lib/python3.7/dist-packages (from google-auth-oauthlib<0.5,>=0.4.1->tensorboard<2.9,>=2.8->tensorflow->keras-rl2) (1.3.1)\n",
            "Requirement already satisfied: importlib-metadata>=4.4 in /usr/local/lib/python3.7/dist-packages (from markdown>=2.6.8->tensorboard<2.9,>=2.8->tensorflow->keras-rl2) (4.11.3)\n",
            "Requirement already satisfied: zipp>=0.5 in /usr/local/lib/python3.7/dist-packages (from importlib-metadata>=4.4->markdown>=2.6.8->tensorboard<2.9,>=2.8->tensorflow->keras-rl2) (3.7.0)\n",
            "Requirement already satisfied: pyasn1<0.5.0,>=0.4.6 in /usr/local/lib/python3.7/dist-packages (from pyasn1-modules>=0.2.1->google-auth<3,>=1.6.3->tensorboard<2.9,>=2.8->tensorflow->keras-rl2) (0.4.8)\n",
            "Requirement already satisfied: chardet<4,>=3.0.2 in /usr/local/lib/python3.7/dist-packages (from requests<3,>=2.21.0->tensorboard<2.9,>=2.8->tensorflow->keras-rl2) (3.0.4)\n",
            "Requirement already satisfied: certifi>=2017.4.17 in /usr/local/lib/python3.7/dist-packages (from requests<3,>=2.21.0->tensorboard<2.9,>=2.8->tensorflow->keras-rl2) (2021.10.8)\n",
            "Requirement already satisfied: urllib3!=1.25.0,!=1.25.1,<1.26,>=1.21.1 in /usr/local/lib/python3.7/dist-packages (from requests<3,>=2.21.0->tensorboard<2.9,>=2.8->tensorflow->keras-rl2) (1.24.3)\n",
            "Requirement already satisfied: idna<3,>=2.5 in /usr/local/lib/python3.7/dist-packages (from requests<3,>=2.21.0->tensorboard<2.9,>=2.8->tensorflow->keras-rl2) (2.10)\n",
            "Requirement already satisfied: oauthlib>=3.0.0 in /usr/local/lib/python3.7/dist-packages (from requests-oauthlib>=0.7.0->google-auth-oauthlib<0.5,>=0.4.1->tensorboard<2.9,>=2.8->tensorflow->keras-rl2) (3.2.0)\n"
          ]
        }
      ]
    },
    {
      "cell_type": "code",
      "metadata": {
        "id": "XMIHLgQ3Z-lF",
        "colab": {
          "base_uri": "https://localhost:8080/"
        },
        "outputId": "0fd3a7c4-f9af-4f4d-deb6-1f7faa44c2a6"
      },
      "source": [
        "!pip install gym"
      ],
      "execution_count": 89,
      "outputs": [
        {
          "output_type": "stream",
          "name": "stdout",
          "text": [
            "Requirement already satisfied: gym in /usr/local/lib/python3.7/dist-packages (0.17.3)\n",
            "Requirement already satisfied: numpy>=1.10.4 in /usr/local/lib/python3.7/dist-packages (from gym) (1.21.5)\n",
            "Requirement already satisfied: cloudpickle<1.7.0,>=1.2.0 in /usr/local/lib/python3.7/dist-packages (from gym) (1.3.0)\n",
            "Requirement already satisfied: pyglet<=1.5.0,>=1.4.0 in /usr/local/lib/python3.7/dist-packages (from gym) (1.5.0)\n",
            "Requirement already satisfied: scipy in /usr/local/lib/python3.7/dist-packages (from gym) (1.4.1)\n",
            "Requirement already satisfied: future in /usr/local/lib/python3.7/dist-packages (from pyglet<=1.5.0,>=1.4.0->gym) (0.16.0)\n"
          ]
        }
      ]
    },
    {
      "cell_type": "code",
      "metadata": {
        "id": "M0AMLzq08ap0",
        "colab": {
          "base_uri": "https://localhost:8080/"
        },
        "outputId": "7a9f06dd-fd9f-4c9c-90b1-39cde93eeffc"
      },
      "source": [
        "# load the gym module\n",
        "import gym\n",
        "import matplotlib.pyplot as plt\n",
        "# import the usual Keras modules for creating deep neural networks\n",
        "from keras import Sequential\n",
        "from keras.layers import Input, Flatten, Dense\n",
        "!pip install Adam\n",
        "#from keras.optimizers import Adam\n",
        "from tensorflow.keras.optimizers import Adam\n",
        "ENV_NAME = 'CartPole-v0'\n",
        "env = gym.make(ENV_NAME)"
      ],
      "execution_count": 90,
      "outputs": [
        {
          "output_type": "stream",
          "name": "stdout",
          "text": [
            "Requirement already satisfied: Adam in /usr/local/lib/python3.7/dist-packages (0.0.0.dev0)\n"
          ]
        }
      ]
    },
    {
      "cell_type": "markdown",
      "metadata": {
        "id": "ll6bNdUm54WS"
      },
      "source": [
        "Implementation of DQN for CartPole, applying policy BoltzmannQPolicy"
      ]
    },
    {
      "cell_type": "markdown",
      "metadata": {
        "id": "RSCrPKNy40PC"
      },
      "source": [
        "##Implement DQN with BoltzmannGumbelQPolicy"
      ]
    },
    {
      "cell_type": "code",
      "metadata": {
        "id": "efM9jkXr5A3c",
        "colab": {
          "base_uri": "https://localhost:8080/",
          "height": 1000
        },
        "outputId": "baf215a2-2653-4206-c429-c8f3be078138"
      },
      "source": [
        "import rl\n",
        "from rl.memory import SequentialMemory  # import the exerience replay buffer module\n",
        "from rl.policy import BoltzmannGumbelQPolicy\n",
        "from rl.policy import LinearAnnealedPolicy\n",
        "from rl.policy import EpsGreedyQPolicy\n",
        "from rl.agents.dqn import DQNAgent      # import the DQN agent\n",
        "\n",
        "# setup experience replay buffer\n",
        "memory = SequentialMemory(limit=10000, window_length=1)\n",
        "\n",
        "policy = LinearAnnealedPolicy(EpsGreedyQPolicy(), \n",
        "                               attr='eps',            \n",
        "                               value_max=1.,\n",
        "                               value_min=.1, \n",
        "                               value_test=.05,\n",
        "                               nb_steps=200)\n",
        "# Q-Network\n",
        "model = Sequential()\n",
        "model.add(Input(shape=(1,env.observation_space.shape[0])))  # The input is 1 observation vector, and the number of observations in that vector \n",
        "model.add(Flatten())\n",
        "model.add(Dense(16, activation='relu'))\n",
        "# add extra layers here\n",
        "model.add(Dense(env.action_space.n, activation='linear'))   # the output is the number of actions in the action space\n",
        "\n",
        "print(model.summary())\n",
        "\n",
        "# define the agent\n",
        "dqn = DQNAgent(model=model, \n",
        "               nb_actions=env.action_space.n,\n",
        "               memory=memory,\n",
        "               nb_steps_warmup=7,\n",
        "               target_model_update=1e-2, \n",
        "               policy=policy) \n",
        "\n",
        "dqn.compile(Adam(lr=1e-1), metrics=['mae'])\n",
        "\n",
        "history = dqn.fit(env, nb_steps=9000, visualize=False, verbose=2)\n",
        "\n",
        "# summarize the history for number  of episode steps\n",
        "plt.plot(history.history['nb_episode_steps'])\n",
        "plt.ylabel('nb_episode_steps')\n",
        "plt.xlabel('episodes')\n",
        "plt.show()\n",
        "\n",
        "dqn.test(env, nb_episodes=20, visualize=False)"
      ],
      "execution_count": 92,
      "outputs": [
        {
          "output_type": "stream",
          "name": "stdout",
          "text": [
            "Model: \"sequential_25\"\n",
            "_________________________________________________________________\n",
            " Layer (type)                Output Shape              Param #   \n",
            "=================================================================\n",
            " flatten_25 (Flatten)        (None, 4)                 0         \n",
            "                                                                 \n",
            " dense_50 (Dense)            (None, 16)                80        \n",
            "                                                                 \n",
            " dense_51 (Dense)            (None, 2)                 34        \n",
            "                                                                 \n",
            "=================================================================\n",
            "Total params: 114\n",
            "Trainable params: 114\n",
            "Non-trainable params: 0\n",
            "_________________________________________________________________\n",
            "None\n"
          ]
        },
        {
          "output_type": "stream",
          "name": "stderr",
          "text": [
            "/usr/local/lib/python3.7/dist-packages/keras/optimizer_v2/adam.py:105: UserWarning: The `lr` argument is deprecated, use `learning_rate` instead.\n",
            "  super(Adam, self).__init__(name, **kwargs)\n"
          ]
        },
        {
          "output_type": "stream",
          "name": "stdout",
          "text": [
            "Training for 9000 steps ...\n"
          ]
        },
        {
          "output_type": "stream",
          "name": "stderr",
          "text": [
            "/usr/local/lib/python3.7/dist-packages/keras/engine/training_v1.py:2079: UserWarning: `Model.state_updates` will be removed in a future version. This property should not be used in TensorFlow 2.0, as `updates` are applied automatically.\n",
            "  updates=self.state_updates,\n",
            "/usr/local/lib/python3.7/dist-packages/rl/memory.py:37: UserWarning: Not enough entries to sample without replacement. Consider increasing your warm-up phase to avoid oversampling!\n",
            "  warnings.warn('Not enough entries to sample without replacement. Consider increasing your warm-up phase to avoid oversampling!')\n"
          ]
        },
        {
          "output_type": "stream",
          "name": "stdout",
          "text": [
            "   16/9000: episode: 1, duration: 5.672s, episode steps:  16, steps per second:   3, episode reward: 16.000, mean reward:  1.000 [ 1.000,  1.000], mean action: 0.562 [0.000, 1.000],  loss: 0.156592, mae: 0.759441, mean_q: 1.370492, mean_eps: 0.948250\n",
            "   28/9000: episode: 2, duration: 0.126s, episode steps:  12, steps per second:  95, episode reward: 12.000, mean reward:  1.000 [ 1.000,  1.000], mean action: 0.750 [0.000, 1.000],  loss: 0.020351, mae: 0.750118, mean_q: 1.509693, mean_eps: 0.903250\n"
          ]
        },
        {
          "output_type": "stream",
          "name": "stderr",
          "text": [
            "/usr/local/lib/python3.7/dist-packages/rl/memory.py:37: UserWarning: Not enough entries to sample without replacement. Consider increasing your warm-up phase to avoid oversampling!\n",
            "  warnings.warn('Not enough entries to sample without replacement. Consider increasing your warm-up phase to avoid oversampling!')\n",
            "/usr/local/lib/python3.7/dist-packages/rl/memory.py:37: UserWarning: Not enough entries to sample without replacement. Consider increasing your warm-up phase to avoid oversampling!\n",
            "  warnings.warn('Not enough entries to sample without replacement. Consider increasing your warm-up phase to avoid oversampling!')\n"
          ]
        },
        {
          "output_type": "stream",
          "name": "stdout",
          "text": [
            "   42/9000: episode: 3, duration: 0.154s, episode steps:  14, steps per second:  91, episode reward: 14.000, mean reward:  1.000 [ 1.000,  1.000], mean action: 0.643 [0.000, 1.000],  loss: 0.014686, mae: 0.799927, mean_q: 1.678303, mean_eps: 0.844750\n",
            "   65/9000: episode: 4, duration: 0.235s, episode steps:  23, steps per second:  98, episode reward: 23.000, mean reward:  1.000 [ 1.000,  1.000], mean action: 0.565 [0.000, 1.000],  loss: 0.020375, mae: 0.887818, mean_q: 1.791119, mean_eps: 0.761500\n",
            "   76/9000: episode: 5, duration: 0.116s, episode steps:  11, steps per second:  94, episode reward: 11.000, mean reward:  1.000 [ 1.000,  1.000], mean action: 0.818 [0.000, 1.000],  loss: 0.022722, mae: 0.969766, mean_q: 1.906252, mean_eps: 0.685000\n",
            "   89/9000: episode: 6, duration: 0.147s, episode steps:  13, steps per second:  89, episode reward: 13.000, mean reward:  1.000 [ 1.000,  1.000], mean action: 0.692 [0.000, 1.000],  loss: 0.036467, mae: 1.018793, mean_q: 2.031243, mean_eps: 0.631000\n",
            "  101/9000: episode: 7, duration: 0.127s, episode steps:  12, steps per second:  94, episode reward: 12.000, mean reward:  1.000 [ 1.000,  1.000], mean action: 0.750 [0.000, 1.000],  loss: 0.046733, mae: 1.106296, mean_q: 2.104931, mean_eps: 0.574750\n",
            "  112/9000: episode: 8, duration: 0.116s, episode steps:  11, steps per second:  95, episode reward: 11.000, mean reward:  1.000 [ 1.000,  1.000], mean action: 0.818 [0.000, 1.000],  loss: 0.051381, mae: 1.166837, mean_q: 2.243314, mean_eps: 0.523000\n",
            "  125/9000: episode: 9, duration: 0.134s, episode steps:  13, steps per second:  97, episode reward: 13.000, mean reward:  1.000 [ 1.000,  1.000], mean action: 0.846 [0.000, 1.000],  loss: 0.060795, mae: 1.195219, mean_q: 2.344420, mean_eps: 0.469000\n",
            "  138/9000: episode: 10, duration: 0.140s, episode steps:  13, steps per second:  93, episode reward: 13.000, mean reward:  1.000 [ 1.000,  1.000], mean action: 0.615 [0.000, 1.000],  loss: 0.063271, mae: 1.294656, mean_q: 2.453245, mean_eps: 0.410500\n",
            "  150/9000: episode: 11, duration: 0.129s, episode steps:  12, steps per second:  93, episode reward: 12.000, mean reward:  1.000 [ 1.000,  1.000], mean action: 0.667 [0.000, 1.000],  loss: 0.055547, mae: 1.307607, mean_q: 2.584670, mean_eps: 0.354250\n",
            "  160/9000: episode: 12, duration: 0.114s, episode steps:  10, steps per second:  88, episode reward: 10.000, mean reward:  1.000 [ 1.000,  1.000], mean action: 1.000 [1.000, 1.000],  loss: 0.067377, mae: 1.383133, mean_q: 2.658695, mean_eps: 0.304750\n",
            "  170/9000: episode: 13, duration: 0.105s, episode steps:  10, steps per second:  95, episode reward: 10.000, mean reward:  1.000 [ 1.000,  1.000], mean action: 1.000 [1.000, 1.000],  loss: 0.073960, mae: 1.446407, mean_q: 2.827333, mean_eps: 0.259750\n",
            "  188/9000: episode: 14, duration: 0.205s, episode steps:  18, steps per second:  88, episode reward: 18.000, mean reward:  1.000 [ 1.000,  1.000], mean action: 0.222 [0.000, 1.000],  loss: 0.097338, mae: 1.528072, mean_q: 2.886618, mean_eps: 0.196750\n",
            "  202/9000: episode: 15, duration: 0.158s, episode steps:  14, steps per second:  89, episode reward: 14.000, mean reward:  1.000 [ 1.000,  1.000], mean action: 0.714 [0.000, 1.000],  loss: 0.079256, mae: 1.594327, mean_q: 3.114373, mean_eps: 0.125071\n",
            "  214/9000: episode: 16, duration: 0.130s, episode steps:  12, steps per second:  92, episode reward: 12.000, mean reward:  1.000 [ 1.000,  1.000], mean action: 0.833 [0.000, 1.000],  loss: 0.140683, mae: 1.635553, mean_q: 3.151427, mean_eps: 0.100000\n",
            "  226/9000: episode: 17, duration: 0.130s, episode steps:  12, steps per second:  92, episode reward: 12.000, mean reward:  1.000 [ 1.000,  1.000], mean action: 0.917 [0.000, 1.000],  loss: 0.265500, mae: 1.761096, mean_q: 3.273323, mean_eps: 0.100000\n",
            "  235/9000: episode: 18, duration: 0.109s, episode steps:   9, steps per second:  83, episode reward:  9.000, mean reward:  1.000 [ 1.000,  1.000], mean action: 0.778 [0.000, 1.000],  loss: 0.182721, mae: 1.755654, mean_q: 3.235923, mean_eps: 0.100000\n",
            "  247/9000: episode: 19, duration: 0.133s, episode steps:  12, steps per second:  90, episode reward: 12.000, mean reward:  1.000 [ 1.000,  1.000], mean action: 0.917 [0.000, 1.000],  loss: 0.129861, mae: 1.767022, mean_q: 3.353447, mean_eps: 0.100000\n",
            "  256/9000: episode: 20, duration: 0.102s, episode steps:   9, steps per second:  88, episode reward:  9.000, mean reward:  1.000 [ 1.000,  1.000], mean action: 0.889 [0.000, 1.000],  loss: 0.134075, mae: 1.815926, mean_q: 3.497604, mean_eps: 0.100000\n",
            "  283/9000: episode: 21, duration: 0.287s, episode steps:  27, steps per second:  94, episode reward: 27.000, mean reward:  1.000 [ 1.000,  1.000], mean action: 0.741 [0.000, 1.000],  loss: 0.122276, mae: 1.866107, mean_q: 3.535809, mean_eps: 0.100000\n",
            "  292/9000: episode: 22, duration: 0.095s, episode steps:   9, steps per second:  94, episode reward:  9.000, mean reward:  1.000 [ 1.000,  1.000], mean action: 1.000 [1.000, 1.000],  loss: 0.118909, mae: 1.941266, mean_q: 3.680986, mean_eps: 0.100000\n",
            "  302/9000: episode: 23, duration: 0.105s, episode steps:  10, steps per second:  95, episode reward: 10.000, mean reward:  1.000 [ 1.000,  1.000], mean action: 0.900 [0.000, 1.000],  loss: 0.108208, mae: 2.006323, mean_q: 3.801478, mean_eps: 0.100000\n",
            "  311/9000: episode: 24, duration: 0.099s, episode steps:   9, steps per second:  91, episode reward:  9.000, mean reward:  1.000 [ 1.000,  1.000], mean action: 0.889 [0.000, 1.000],  loss: 0.175498, mae: 1.945683, mean_q: 3.756192, mean_eps: 0.100000\n",
            "  328/9000: episode: 25, duration: 0.179s, episode steps:  17, steps per second:  95, episode reward: 17.000, mean reward:  1.000 [ 1.000,  1.000], mean action: 0.412 [0.000, 1.000],  loss: 0.144297, mae: 2.114149, mean_q: 3.959769, mean_eps: 0.100000\n",
            "  340/9000: episode: 26, duration: 0.124s, episode steps:  12, steps per second:  97, episode reward: 12.000, mean reward:  1.000 [ 1.000,  1.000], mean action: 0.750 [0.000, 1.000],  loss: 0.205671, mae: 2.094721, mean_q: 3.997486, mean_eps: 0.100000\n",
            "  374/9000: episode: 27, duration: 0.353s, episode steps:  34, steps per second:  96, episode reward: 34.000, mean reward:  1.000 [ 1.000,  1.000], mean action: 0.529 [0.000, 1.000],  loss: 0.145042, mae: 2.228752, mean_q: 4.219925, mean_eps: 0.100000\n",
            "  421/9000: episode: 28, duration: 0.474s, episode steps:  47, steps per second:  99, episode reward: 47.000, mean reward:  1.000 [ 1.000,  1.000], mean action: 0.596 [0.000, 1.000],  loss: 0.201042, mae: 2.337849, mean_q: 4.474765, mean_eps: 0.100000\n",
            "  438/9000: episode: 29, duration: 0.168s, episode steps:  17, steps per second: 101, episode reward: 17.000, mean reward:  1.000 [ 1.000,  1.000], mean action: 0.471 [0.000, 1.000],  loss: 0.226777, mae: 2.411887, mean_q: 4.556170, mean_eps: 0.100000\n",
            "  447/9000: episode: 30, duration: 0.107s, episode steps:   9, steps per second:  84, episode reward:  9.000, mean reward:  1.000 [ 1.000,  1.000], mean action: 0.222 [0.000, 1.000],  loss: 0.390474, mae: 2.685627, mean_q: 5.083953, mean_eps: 0.100000\n",
            "  456/9000: episode: 31, duration: 0.096s, episode steps:   9, steps per second:  94, episode reward:  9.000, mean reward:  1.000 [ 1.000,  1.000], mean action: 0.667 [0.000, 1.000],  loss: 0.411512, mae: 2.456172, mean_q: 4.687182, mean_eps: 0.100000\n",
            "  536/9000: episode: 32, duration: 0.810s, episode steps:  80, steps per second:  99, episode reward: 80.000, mean reward:  1.000 [ 1.000,  1.000], mean action: 0.613 [0.000, 1.000],  loss: 0.343731, mae: 2.739430, mean_q: 5.245932, mean_eps: 0.100000\n",
            "  558/9000: episode: 33, duration: 0.224s, episode steps:  22, steps per second:  98, episode reward: 22.000, mean reward:  1.000 [ 1.000,  1.000], mean action: 0.364 [0.000, 1.000],  loss: 0.202724, mae: 2.951236, mean_q: 5.687657, mean_eps: 0.100000\n",
            "  583/9000: episode: 34, duration: 0.262s, episode steps:  25, steps per second:  96, episode reward: 25.000, mean reward:  1.000 [ 1.000,  1.000], mean action: 0.400 [0.000, 1.000],  loss: 0.286623, mae: 3.068500, mean_q: 5.833687, mean_eps: 0.100000\n",
            "  607/9000: episode: 35, duration: 0.240s, episode steps:  24, steps per second: 100, episode reward: 24.000, mean reward:  1.000 [ 1.000,  1.000], mean action: 0.500 [0.000, 1.000],  loss: 0.458217, mae: 3.154276, mean_q: 5.995412, mean_eps: 0.100000\n",
            "  616/9000: episode: 36, duration: 0.098s, episode steps:   9, steps per second:  91, episode reward:  9.000, mean reward:  1.000 [ 1.000,  1.000], mean action: 0.222 [0.000, 1.000],  loss: 0.730300, mae: 3.359973, mean_q: 6.242940, mean_eps: 0.100000\n",
            "  637/9000: episode: 37, duration: 0.215s, episode steps:  21, steps per second:  98, episode reward: 21.000, mean reward:  1.000 [ 1.000,  1.000], mean action: 0.333 [0.000, 1.000],  loss: 0.690803, mae: 3.388690, mean_q: 6.199199, mean_eps: 0.100000\n",
            "  654/9000: episode: 38, duration: 0.176s, episode steps:  17, steps per second:  97, episode reward: 17.000, mean reward:  1.000 [ 1.000,  1.000], mean action: 0.294 [0.000, 1.000],  loss: 0.333867, mae: 3.439488, mean_q: 6.566836, mean_eps: 0.100000\n",
            "  681/9000: episode: 39, duration: 0.289s, episode steps:  27, steps per second:  94, episode reward: 27.000, mean reward:  1.000 [ 1.000,  1.000], mean action: 0.222 [0.000, 1.000],  loss: 0.314363, mae: 3.411693, mean_q: 6.558733, mean_eps: 0.100000\n",
            "  708/9000: episode: 40, duration: 0.267s, episode steps:  27, steps per second: 101, episode reward: 27.000, mean reward:  1.000 [ 1.000,  1.000], mean action: 0.333 [0.000, 1.000],  loss: 0.400617, mae: 3.539747, mean_q: 6.676485, mean_eps: 0.100000\n",
            "  731/9000: episode: 41, duration: 0.237s, episode steps:  23, steps per second:  97, episode reward: 23.000, mean reward:  1.000 [ 1.000,  1.000], mean action: 0.391 [0.000, 1.000],  loss: 0.491562, mae: 3.689770, mean_q: 6.917608, mean_eps: 0.100000\n",
            "  800/9000: episode: 42, duration: 0.694s, episode steps:  69, steps per second:  99, episode reward: 69.000, mean reward:  1.000 [ 1.000,  1.000], mean action: 0.406 [0.000, 1.000],  loss: 0.475589, mae: 3.853751, mean_q: 7.428327, mean_eps: 0.100000\n",
            "  847/9000: episode: 43, duration: 0.466s, episode steps:  47, steps per second: 101, episode reward: 47.000, mean reward:  1.000 [ 1.000,  1.000], mean action: 0.468 [0.000, 1.000],  loss: 0.453889, mae: 4.086979, mean_q: 7.831126, mean_eps: 0.100000\n",
            "  857/9000: episode: 44, duration: 0.106s, episode steps:  10, steps per second:  94, episode reward: 10.000, mean reward:  1.000 [ 1.000,  1.000], mean action: 0.600 [0.000, 1.000],  loss: 0.612888, mae: 4.263044, mean_q: 8.088284, mean_eps: 0.100000\n",
            "  873/9000: episode: 45, duration: 0.178s, episode steps:  16, steps per second:  90, episode reward: 16.000, mean reward:  1.000 [ 1.000,  1.000], mean action: 0.250 [0.000, 1.000],  loss: 0.572183, mae: 4.290921, mean_q: 8.227946, mean_eps: 0.100000\n",
            "  899/9000: episode: 46, duration: 0.258s, episode steps:  26, steps per second: 101, episode reward: 26.000, mean reward:  1.000 [ 1.000,  1.000], mean action: 0.500 [0.000, 1.000],  loss: 0.604928, mae: 4.336286, mean_q: 8.195134, mean_eps: 0.100000\n",
            "  911/9000: episode: 47, duration: 0.132s, episode steps:  12, steps per second:  91, episode reward: 12.000, mean reward:  1.000 [ 1.000,  1.000], mean action: 0.333 [0.000, 1.000],  loss: 0.281443, mae: 4.411492, mean_q: 8.642185, mean_eps: 0.100000\n",
            "  926/9000: episode: 48, duration: 0.160s, episode steps:  15, steps per second:  94, episode reward: 15.000, mean reward:  1.000 [ 1.000,  1.000], mean action: 0.400 [0.000, 1.000],  loss: 0.499591, mae: 4.410998, mean_q: 8.543763, mean_eps: 0.100000\n",
            "  944/9000: episode: 49, duration: 0.188s, episode steps:  18, steps per second:  96, episode reward: 18.000, mean reward:  1.000 [ 1.000,  1.000], mean action: 0.500 [0.000, 1.000],  loss: 0.415041, mae: 4.491611, mean_q: 8.793640, mean_eps: 0.100000\n",
            "  960/9000: episode: 50, duration: 0.184s, episode steps:  16, steps per second:  87, episode reward: 16.000, mean reward:  1.000 [ 1.000,  1.000], mean action: 0.438 [0.000, 1.000],  loss: 0.556232, mae: 4.605072, mean_q: 8.790629, mean_eps: 0.100000\n",
            " 1005/9000: episode: 51, duration: 0.451s, episode steps:  45, steps per second: 100, episode reward: 45.000, mean reward:  1.000 [ 1.000,  1.000], mean action: 0.556 [0.000, 1.000],  loss: 0.602727, mae: 4.753903, mean_q: 9.137790, mean_eps: 0.100000\n",
            " 1034/9000: episode: 52, duration: 0.319s, episode steps:  29, steps per second:  91, episode reward: 29.000, mean reward:  1.000 [ 1.000,  1.000], mean action: 0.483 [0.000, 1.000],  loss: 0.680042, mae: 4.934789, mean_q: 9.492977, mean_eps: 0.100000\n",
            " 1065/9000: episode: 53, duration: 0.340s, episode steps:  31, steps per second:  91, episode reward: 31.000, mean reward:  1.000 [ 1.000,  1.000], mean action: 0.484 [0.000, 1.000],  loss: 0.885397, mae: 5.057896, mean_q: 9.716529, mean_eps: 0.100000\n",
            " 1080/9000: episode: 54, duration: 0.165s, episode steps:  15, steps per second:  91, episode reward: 15.000, mean reward:  1.000 [ 1.000,  1.000], mean action: 0.133 [0.000, 1.000],  loss: 1.004498, mae: 5.259086, mean_q: 10.027781, mean_eps: 0.100000\n",
            " 1106/9000: episode: 55, duration: 0.262s, episode steps:  26, steps per second:  99, episode reward: 26.000, mean reward:  1.000 [ 1.000,  1.000], mean action: 0.462 [0.000, 1.000],  loss: 0.934025, mae: 5.231640, mean_q: 10.034983, mean_eps: 0.100000\n",
            " 1130/9000: episode: 56, duration: 0.255s, episode steps:  24, steps per second:  94, episode reward: 24.000, mean reward:  1.000 [ 1.000,  1.000], mean action: 0.542 [0.000, 1.000],  loss: 0.672386, mae: 5.354351, mean_q: 10.261952, mean_eps: 0.100000\n",
            " 1146/9000: episode: 57, duration: 0.165s, episode steps:  16, steps per second:  97, episode reward: 16.000, mean reward:  1.000 [ 1.000,  1.000], mean action: 0.312 [0.000, 1.000],  loss: 1.104152, mae: 5.425809, mean_q: 10.472275, mean_eps: 0.100000\n",
            " 1175/9000: episode: 58, duration: 0.298s, episode steps:  29, steps per second:  97, episode reward: 29.000, mean reward:  1.000 [ 1.000,  1.000], mean action: 0.483 [0.000, 1.000],  loss: 0.904252, mae: 5.587226, mean_q: 10.815924, mean_eps: 0.100000\n",
            " 1303/9000: episode: 59, duration: 1.246s, episode steps: 128, steps per second: 103, episode reward: 128.000, mean reward:  1.000 [ 1.000,  1.000], mean action: 0.523 [0.000, 1.000],  loss: 0.908787, mae: 5.771034, mean_q: 11.108004, mean_eps: 0.100000\n",
            " 1377/9000: episode: 60, duration: 0.736s, episode steps:  74, steps per second: 101, episode reward: 74.000, mean reward:  1.000 [ 1.000,  1.000], mean action: 0.473 [0.000, 1.000],  loss: 1.040523, mae: 6.194470, mean_q: 11.972771, mean_eps: 0.100000\n",
            " 1408/9000: episode: 61, duration: 0.312s, episode steps:  31, steps per second:  99, episode reward: 31.000, mean reward:  1.000 [ 1.000,  1.000], mean action: 0.484 [0.000, 1.000],  loss: 1.188140, mae: 6.430456, mean_q: 12.499699, mean_eps: 0.100000\n",
            " 1502/9000: episode: 62, duration: 0.948s, episode steps:  94, steps per second:  99, episode reward: 94.000, mean reward:  1.000 [ 1.000,  1.000], mean action: 0.532 [0.000, 1.000],  loss: 1.267595, mae: 6.665803, mean_q: 12.846242, mean_eps: 0.100000\n",
            " 1666/9000: episode: 63, duration: 1.651s, episode steps: 164, steps per second:  99, episode reward: 164.000, mean reward:  1.000 [ 1.000,  1.000], mean action: 0.524 [0.000, 1.000],  loss: 1.222327, mae: 7.172145, mean_q: 13.918505, mean_eps: 0.100000\n",
            " 1686/9000: episode: 64, duration: 0.204s, episode steps:  20, steps per second:  98, episode reward: 20.000, mean reward:  1.000 [ 1.000,  1.000], mean action: 0.450 [0.000, 1.000],  loss: 1.639929, mae: 7.490672, mean_q: 14.357151, mean_eps: 0.100000\n",
            " 1715/9000: episode: 65, duration: 0.300s, episode steps:  29, steps per second:  97, episode reward: 29.000, mean reward:  1.000 [ 1.000,  1.000], mean action: 0.517 [0.000, 1.000],  loss: 1.563940, mae: 7.521275, mean_q: 14.520965, mean_eps: 0.100000\n",
            " 1803/9000: episode: 66, duration: 0.873s, episode steps:  88, steps per second: 101, episode reward: 88.000, mean reward:  1.000 [ 1.000,  1.000], mean action: 0.477 [0.000, 1.000],  loss: 1.286383, mae: 7.823166, mean_q: 15.234293, mean_eps: 0.100000\n",
            " 2003/9000: episode: 67, duration: 1.957s, episode steps: 200, steps per second: 102, episode reward: 200.000, mean reward:  1.000 [ 1.000,  1.000], mean action: 0.515 [0.000, 1.000],  loss: 1.490757, mae: 8.394103, mean_q: 16.357439, mean_eps: 0.100000\n",
            " 2162/9000: episode: 68, duration: 1.535s, episode steps: 159, steps per second: 104, episode reward: 159.000, mean reward:  1.000 [ 1.000,  1.000], mean action: 0.535 [0.000, 1.000],  loss: 1.927424, mae: 9.210865, mean_q: 17.920659, mean_eps: 0.100000\n",
            " 2333/9000: episode: 69, duration: 1.713s, episode steps: 171, steps per second: 100, episode reward: 171.000, mean reward:  1.000 [ 1.000,  1.000], mean action: 0.503 [0.000, 1.000],  loss: 2.115828, mae: 9.892336, mean_q: 19.248083, mean_eps: 0.100000\n",
            " 2452/9000: episode: 70, duration: 1.183s, episode steps: 119, steps per second: 101, episode reward: 119.000, mean reward:  1.000 [ 1.000,  1.000], mean action: 0.504 [0.000, 1.000],  loss: 2.242125, mae: 10.482740, mean_q: 20.392397, mean_eps: 0.100000\n",
            " 2638/9000: episode: 71, duration: 1.813s, episode steps: 186, steps per second: 103, episode reward: 186.000, mean reward:  1.000 [ 1.000,  1.000], mean action: 0.527 [0.000, 1.000],  loss: 2.545456, mae: 11.044517, mean_q: 21.501605, mean_eps: 0.100000\n",
            " 2838/9000: episode: 72, duration: 1.953s, episode steps: 200, steps per second: 102, episode reward: 200.000, mean reward:  1.000 [ 1.000,  1.000], mean action: 0.530 [0.000, 1.000],  loss: 2.366324, mae: 11.750125, mean_q: 23.016555, mean_eps: 0.100000\n",
            " 2990/9000: episode: 73, duration: 1.503s, episode steps: 152, steps per second: 101, episode reward: 152.000, mean reward:  1.000 [ 1.000,  1.000], mean action: 0.507 [0.000, 1.000],  loss: 3.125644, mae: 12.465587, mean_q: 24.201188, mean_eps: 0.100000\n",
            " 3190/9000: episode: 74, duration: 2.001s, episode steps: 200, steps per second: 100, episode reward: 200.000, mean reward:  1.000 [ 1.000,  1.000], mean action: 0.520 [0.000, 1.000],  loss: 3.302432, mae: 13.071325, mean_q: 25.531088, mean_eps: 0.100000\n",
            " 3388/9000: episode: 75, duration: 1.983s, episode steps: 198, steps per second: 100, episode reward: 198.000, mean reward:  1.000 [ 1.000,  1.000], mean action: 0.530 [0.000, 1.000],  loss: 3.384927, mae: 13.879587, mean_q: 27.025353, mean_eps: 0.100000\n",
            " 3550/9000: episode: 76, duration: 1.584s, episode steps: 162, steps per second: 102, episode reward: 162.000, mean reward:  1.000 [ 1.000,  1.000], mean action: 0.512 [0.000, 1.000],  loss: 3.528357, mae: 14.523017, mean_q: 28.406029, mean_eps: 0.100000\n",
            " 3737/9000: episode: 77, duration: 1.826s, episode steps: 187, steps per second: 102, episode reward: 187.000, mean reward:  1.000 [ 1.000,  1.000], mean action: 0.503 [0.000, 1.000],  loss: 3.278529, mae: 15.088011, mean_q: 29.790866, mean_eps: 0.100000\n",
            " 3937/9000: episode: 78, duration: 2.083s, episode steps: 200, steps per second:  96, episode reward: 200.000, mean reward:  1.000 [ 1.000,  1.000], mean action: 0.505 [0.000, 1.000],  loss: 3.928324, mae: 15.869071, mean_q: 31.102278, mean_eps: 0.100000\n",
            " 4137/9000: episode: 79, duration: 2.088s, episode steps: 200, steps per second:  96, episode reward: 200.000, mean reward:  1.000 [ 1.000,  1.000], mean action: 0.520 [0.000, 1.000],  loss: 4.500172, mae: 16.663163, mean_q: 32.683979, mean_eps: 0.100000\n",
            " 4337/9000: episode: 80, duration: 1.970s, episode steps: 200, steps per second: 102, episode reward: 200.000, mean reward:  1.000 [ 1.000,  1.000], mean action: 0.510 [0.000, 1.000],  loss: 4.359581, mae: 17.327316, mean_q: 34.249194, mean_eps: 0.100000\n",
            " 4533/9000: episode: 81, duration: 1.918s, episode steps: 196, steps per second: 102, episode reward: 196.000, mean reward:  1.000 [ 1.000,  1.000], mean action: 0.515 [0.000, 1.000],  loss: 4.828729, mae: 18.181260, mean_q: 35.818537, mean_eps: 0.100000\n",
            " 4733/9000: episode: 82, duration: 1.956s, episode steps: 200, steps per second: 102, episode reward: 200.000, mean reward:  1.000 [ 1.000,  1.000], mean action: 0.510 [0.000, 1.000],  loss: 5.392711, mae: 18.779746, mean_q: 37.124020, mean_eps: 0.100000\n",
            " 4933/9000: episode: 83, duration: 2.016s, episode steps: 200, steps per second:  99, episode reward: 200.000, mean reward:  1.000 [ 1.000,  1.000], mean action: 0.520 [0.000, 1.000],  loss: 4.954835, mae: 19.467651, mean_q: 38.732868, mean_eps: 0.100000\n",
            " 5115/9000: episode: 84, duration: 1.791s, episode steps: 182, steps per second: 102, episode reward: 182.000, mean reward:  1.000 [ 1.000,  1.000], mean action: 0.522 [0.000, 1.000],  loss: 4.673292, mae: 20.246795, mean_q: 40.554238, mean_eps: 0.100000\n",
            " 5297/9000: episode: 85, duration: 1.842s, episode steps: 182, steps per second:  99, episode reward: 182.000, mean reward:  1.000 [ 1.000,  1.000], mean action: 0.516 [0.000, 1.000],  loss: 5.619327, mae: 20.853437, mean_q: 41.420777, mean_eps: 0.100000\n",
            " 5460/9000: episode: 86, duration: 1.648s, episode steps: 163, steps per second:  99, episode reward: 163.000, mean reward:  1.000 [ 1.000,  1.000], mean action: 0.528 [0.000, 1.000],  loss: 6.597959, mae: 21.568462, mean_q: 42.834633, mean_eps: 0.100000\n",
            " 5660/9000: episode: 87, duration: 2.988s, episode steps: 200, steps per second:  67, episode reward: 200.000, mean reward:  1.000 [ 1.000,  1.000], mean action: 0.510 [0.000, 1.000],  loss: 5.595413, mae: 21.972967, mean_q: 43.884197, mean_eps: 0.100000\n",
            " 5804/9000: episode: 88, duration: 1.413s, episode steps: 144, steps per second: 102, episode reward: 144.000, mean reward:  1.000 [ 1.000,  1.000], mean action: 0.486 [0.000, 1.000],  loss: 6.239799, mae: 22.659674, mean_q: 45.288572, mean_eps: 0.100000\n",
            " 5944/9000: episode: 89, duration: 1.365s, episode steps: 140, steps per second: 103, episode reward: 140.000, mean reward:  1.000 [ 1.000,  1.000], mean action: 0.514 [0.000, 1.000],  loss: 6.139265, mae: 23.196689, mean_q: 46.151878, mean_eps: 0.100000\n",
            " 6136/9000: episode: 90, duration: 1.856s, episode steps: 192, steps per second: 103, episode reward: 192.000, mean reward:  1.000 [ 1.000,  1.000], mean action: 0.521 [0.000, 1.000],  loss: 7.068596, mae: 23.732347, mean_q: 47.170753, mean_eps: 0.100000\n",
            " 6303/9000: episode: 91, duration: 1.640s, episode steps: 167, steps per second: 102, episode reward: 167.000, mean reward:  1.000 [ 1.000,  1.000], mean action: 0.521 [0.000, 1.000],  loss: 5.979647, mae: 24.238734, mean_q: 48.448817, mean_eps: 0.100000\n",
            " 6455/9000: episode: 92, duration: 1.488s, episode steps: 152, steps per second: 102, episode reward: 152.000, mean reward:  1.000 [ 1.000,  1.000], mean action: 0.487 [0.000, 1.000],  loss: 7.241613, mae: 24.785988, mean_q: 49.264407, mean_eps: 0.100000\n",
            " 6655/9000: episode: 93, duration: 1.915s, episode steps: 200, steps per second: 104, episode reward: 200.000, mean reward:  1.000 [ 1.000,  1.000], mean action: 0.510 [0.000, 1.000],  loss: 6.838097, mae: 25.192157, mean_q: 50.217154, mean_eps: 0.100000\n",
            " 6762/9000: episode: 94, duration: 1.072s, episode steps: 107, steps per second: 100, episode reward: 107.000, mean reward:  1.000 [ 1.000,  1.000], mean action: 0.505 [0.000, 1.000],  loss: 7.202778, mae: 25.642723, mean_q: 51.055595, mean_eps: 0.100000\n",
            " 6955/9000: episode: 95, duration: 1.853s, episode steps: 193, steps per second: 104, episode reward: 193.000, mean reward:  1.000 [ 1.000,  1.000], mean action: 0.518 [0.000, 1.000],  loss: 6.090698, mae: 26.125340, mean_q: 52.268090, mean_eps: 0.100000\n",
            " 7119/9000: episode: 96, duration: 1.618s, episode steps: 164, steps per second: 101, episode reward: 164.000, mean reward:  1.000 [ 1.000,  1.000], mean action: 0.500 [0.000, 1.000],  loss: 6.377691, mae: 26.720966, mean_q: 53.241402, mean_eps: 0.100000\n",
            " 7319/9000: episode: 97, duration: 1.943s, episode steps: 200, steps per second: 103, episode reward: 200.000, mean reward:  1.000 [ 1.000,  1.000], mean action: 0.525 [0.000, 1.000],  loss: 7.782086, mae: 27.246201, mean_q: 54.251014, mean_eps: 0.100000\n",
            " 7498/9000: episode: 98, duration: 1.760s, episode steps: 179, steps per second: 102, episode reward: 179.000, mean reward:  1.000 [ 1.000,  1.000], mean action: 0.525 [0.000, 1.000],  loss: 8.537318, mae: 27.559404, mean_q: 54.809441, mean_eps: 0.100000\n",
            " 7682/9000: episode: 99, duration: 1.816s, episode steps: 184, steps per second: 101, episode reward: 184.000, mean reward:  1.000 [ 1.000,  1.000], mean action: 0.522 [0.000, 1.000],  loss: 7.817721, mae: 27.802680, mean_q: 55.517419, mean_eps: 0.100000\n",
            " 7766/9000: episode: 100, duration: 0.823s, episode steps:  84, steps per second: 102, episode reward: 84.000, mean reward:  1.000 [ 1.000,  1.000], mean action: 0.464 [0.000, 1.000],  loss: 6.804651, mae: 28.299127, mean_q: 56.555113, mean_eps: 0.100000\n",
            " 7831/9000: episode: 101, duration: 0.648s, episode steps:  65, steps per second: 100, episode reward: 65.000, mean reward:  1.000 [ 1.000,  1.000], mean action: 0.477 [0.000, 1.000],  loss: 6.904548, mae: 28.318835, mean_q: 56.749986, mean_eps: 0.100000\n",
            " 8031/9000: episode: 102, duration: 1.983s, episode steps: 200, steps per second: 101, episode reward: 200.000, mean reward:  1.000 [ 1.000,  1.000], mean action: 0.520 [0.000, 1.000],  loss: 6.493039, mae: 28.750022, mean_q: 57.389491, mean_eps: 0.100000\n",
            " 8197/9000: episode: 103, duration: 1.647s, episode steps: 166, steps per second: 101, episode reward: 166.000, mean reward:  1.000 [ 1.000,  1.000], mean action: 0.524 [0.000, 1.000],  loss: 9.264915, mae: 29.308804, mean_q: 58.210239, mean_eps: 0.100000\n",
            " 8397/9000: episode: 104, duration: 2.050s, episode steps: 200, steps per second:  98, episode reward: 200.000, mean reward:  1.000 [ 1.000,  1.000], mean action: 0.515 [0.000, 1.000],  loss: 6.953359, mae: 29.510497, mean_q: 58.975704, mean_eps: 0.100000\n",
            " 8582/9000: episode: 105, duration: 1.824s, episode steps: 185, steps per second: 101, episode reward: 185.000, mean reward:  1.000 [ 1.000,  1.000], mean action: 0.524 [0.000, 1.000],  loss: 6.743566, mae: 30.100985, mean_q: 60.120896, mean_eps: 0.100000\n",
            " 8760/9000: episode: 106, duration: 1.756s, episode steps: 178, steps per second: 101, episode reward: 178.000, mean reward:  1.000 [ 1.000,  1.000], mean action: 0.528 [0.000, 1.000],  loss: 8.211919, mae: 30.352346, mean_q: 60.448105, mean_eps: 0.100000\n",
            " 8960/9000: episode: 107, duration: 1.990s, episode steps: 200, steps per second: 100, episode reward: 200.000, mean reward:  1.000 [ 1.000,  1.000], mean action: 0.520 [0.000, 1.000],  loss: 7.188664, mae: 30.643526, mean_q: 61.323437, mean_eps: 0.100000\n",
            " 8979/9000: episode: 108, duration: 0.207s, episode steps:  19, steps per second:  92, episode reward: 19.000, mean reward:  1.000 [ 1.000,  1.000], mean action: 0.368 [0.000, 1.000],  loss: 8.272068, mae: 31.716905, mean_q: 63.334836, mean_eps: 0.100000\n",
            "done, took 96.417 seconds\n"
          ]
        },
        {
          "output_type": "display_data",
          "data": {
            "text/plain": [
              "<Figure size 432x288 with 1 Axes>"
            ],
            "image/png": "[encoded data removed]"
          },
          "metadata": {
            "needs_background": "light"
          }
        },
        {
          "output_type": "stream",
          "name": "stdout",
          "text": [
            "Testing for 20 episodes ...\n",
            "Episode 1: reward: 200.000, steps: 200\n",
            "Episode 2: reward: 200.000, steps: 200\n",
            "Episode 3: reward: 200.000, steps: 200\n",
            "Episode 4: reward: 200.000, steps: 200\n",
            "Episode 5: reward: 200.000, steps: 200\n",
            "Episode 6: reward: 200.000, steps: 200\n",
            "Episode 7: reward: 200.000, steps: 200\n",
            "Episode 8: reward: 200.000, steps: 200\n",
            "Episode 9: reward: 200.000, steps: 200\n",
            "Episode 10: reward: 200.000, steps: 200\n",
            "Episode 11: reward: 200.000, steps: 200\n",
            "Episode 12: reward: 200.000, steps: 200\n",
            "Episode 13: reward: 200.000, steps: 200\n",
            "Episode 14: reward: 200.000, steps: 200\n",
            "Episode 15: reward: 200.000, steps: 200\n",
            "Episode 16: reward: 200.000, steps: 200\n",
            "Episode 17: reward: 200.000, steps: 200\n",
            "Episode 18: reward: 200.000, steps: 200\n",
            "Episode 19: reward: 200.000, steps: 200\n",
            "Episode 20: reward: 200.000, steps: 200\n"
          ]
        },
        {
          "output_type": "execute_result",
          "data": {
            "text/plain": [
              "<keras.callbacks.History at 0x7f5d3749c610>"
            ]
          },
          "metadata": {},
          "execution_count": 92
        }
      ]
    }
  ]
}