{
  "nbformat": 4,
  "nbformat_minor": 0,
  "metadata": {
    "colab": {
      "name": "Copy of Ahsan-MLAssessment.ipynb",
      "provenance": [],
      "include_colab_link": true
    },
    "kernelspec": {
      "name": "python3",
      "display_name": "Python 3"
    },
    "language_info": {
      "name": "python"
    }
  },
  "cells": [
    {
      "cell_type": "markdown",
      "metadata": {
        "id": "view-in-github",
        "colab_type": "text"
      },
      "source": [
        "<a href=\"https://colab.research.google.com/github/MuhammadAliAhsan/Ahsan_MLProject/blob/main/Ahsan_MLAssessment.ipynb\" target=\"_parent\"><img src=\"https://colab.research.google.com/assets/colab-badge.svg\" alt=\"Open In Colab\"/></a>"
      ]
    },
    {
      "cell_type": "markdown",
      "source": [
        "Clustering Problem & Importing Libraries "
      ],
      "metadata": {
        "id": "W5EwxGuPEef0"
      }
    },
    {
      "cell_type": "code",
      "source": [
        "import numpy as np\n",
        "import matplotlib.pyplot as plt\n",
        "import pandas as pd\n"
      ],
      "metadata": {
        "id": "VdeSTRZrFXcE"
      },
      "execution_count": 289,
      "outputs": []
    },
    {
      "cell_type": "markdown",
      "source": [
        "Now We are going to Import the Dataset"
      ],
      "metadata": {
        "id": "iF48ASNtFotK"
      }
    },
    {
      "cell_type": "code",
      "source": [
        "dataset = pd.read_csv('https://raw.githubusercontent.com/MuhammadAliAhsan/Ahsan_MLProject/main/austin_weather.csv')"
      ],
      "metadata": {
        "id": "y4PbFDyYFuse"
      },
      "execution_count": 290,
      "outputs": []
    },
    {
      "cell_type": "markdown",
      "source": [
        "Feature Selection"
      ],
      "metadata": {
        "id": "3Ufz7cPfF0AH"
      }
    },
    {
      "cell_type": "code",
      "source": [
        "weather = dataset[['TempHighF', 'TempAvgF']]\n",
        "print(weather)\n"
      ],
      "metadata": {
        "id": "Pq4CTTPcF-zQ",
        "colab": {
          "base_uri": "https://localhost:8080/"
        },
        "outputId": "7fa38915-3fc8-4cd5-9ccd-f6f6ecd64e2d"
      },
      "execution_count": 291,
      "outputs": [
        {
          "output_type": "stream",
          "name": "stdout",
          "text": [
            "      TempHighF  TempAvgF\n",
            "0            74        60\n",
            "1            56        48\n",
            "2            58        45\n",
            "3            61        46\n",
            "4            58        50\n",
            "...         ...       ...\n",
            "1314        103        89\n",
            "1315        105        91\n",
            "1316        107        92\n",
            "1317        106        93\n",
            "1318         99        88\n",
            "\n",
            "[1319 rows x 2 columns]\n"
          ]
        }
      ]
    },
    {
      "cell_type": "markdown",
      "source": [
        "So At this stage, we have to define the coulmns "
      ],
      "metadata": {
        "id": "7CUEONjcGEgH"
      }
    },
    {
      "cell_type": "code",
      "source": [
        "weather.columns = ['TempHighF', 'TempAvgF']\n"
      ],
      "metadata": {
        "id": "tOe39PKGGQN0"
      },
      "execution_count": 292,
      "outputs": []
    },
    {
      "cell_type": "markdown",
      "source": [
        "Null Values Checking"
      ],
      "metadata": {
        "id": "9PPJe86SGSGJ"
      }
    },
    {
      "cell_type": "code",
      "source": [
        "weather.isnull().sum()\n",
        "\n",
        "X = weather.iloc[:, [0, 1]].values\n",
        "print(X)\n"
      ],
      "metadata": {
        "id": "Fo27pl2bGaCR",
        "colab": {
          "base_uri": "https://localhost:8080/"
        },
        "outputId": "faeeaebf-c821-406a-bfa3-3a694a186f88"
      },
      "execution_count": 293,
      "outputs": [
        {
          "output_type": "stream",
          "name": "stdout",
          "text": [
            "[[ 74  60]\n",
            " [ 56  48]\n",
            " [ 58  45]\n",
            " ...\n",
            " [107  92]\n",
            " [106  93]\n",
            " [ 99  88]]\n"
          ]
        }
      ]
    },
    {
      "cell_type": "markdown",
      "source": [
        "Evaluation through K Value"
      ],
      "metadata": {
        "id": "wGnBuSTZGbIC"
      }
    },
    {
      "cell_type": "code",
      "source": [
        "from sklearn.cluster import KMeans\n",
        "wcss = []\n",
        "for i in range(1, 11):\n",
        "    kmeans = KMeans(n_clusters = i, init = 'k-means++', random_state = 42)\n",
        "    kmeans.fit(X)\n",
        "    wcss.append(kmeans.inertia_)\n",
        "plt.plot(range(1, 11), wcss , color = 'red')\n",
        "plt.title('Elbow Method')\n",
        "plt.xlabel('Number of Cluster')\n",
        "plt.ylabel('WCSS')\n",
        "plt.show()\n"
      ],
      "metadata": {
        "id": "iAjEEKLnGjfs",
        "colab": {
          "base_uri": "https://localhost:8080/",
          "height": 295
        },
        "outputId": "38193152-bb76-499c-b696-75e2305f0363"
      },
      "execution_count": 294,
      "outputs": [
        {
          "output_type": "display_data",
          "data": {
            "image/png": "[encoded data removed]",
            "text/plain": [
              "<Figure size 432x288 with 1 Axes>"
            ]
          },
          "metadata": {
            "needs_background": "light"
          }
        }
      ]
    },
    {
      "cell_type": "markdown",
      "source": [
        "KMean Model training on Dataset"
      ],
      "metadata": {
        "id": "RMWuAVOTGkxd"
      }
    },
    {
      "cell_type": "code",
      "source": [
        "kmeans = KMeans(n_clusters = 7, init = 'k-means++', random_state = 42)\n",
        "y_kmeans = kmeans.fit_predict(X)\n",
        "\n",
        "plt.scatter(X[y_kmeans == 0, 0], X[y_kmeans == 0, 1], s = 100, c = 'orange', label = 'Cluster 1')\n",
        "plt.scatter(X[y_kmeans == 1, 0], X[y_kmeans == 1, 1], s = 100, c = 'blue', label = 'Cluster 2')\n",
        "plt.scatter(X[y_kmeans == 2, 0], X[y_kmeans == 2, 1], s = 100, c = 'green', label = 'Cluster 3')\n",
        "plt.scatter(X[y_kmeans == 3, 0], X[y_kmeans == 3, 1], s = 100, c = 'yellow', label = 'Cluster 4')\n",
        "plt.scatter(X[y_kmeans == 4, 0], X[y_kmeans == 4, 1], s = 100, c = 'grey', label = 'Cluster 5')\n",
        "plt.scatter(X[y_kmeans == 5, 0], X[y_kmeans == 5, 1], s = 100, c = 'purple', label = 'Cluster 6')\n",
        "plt.scatter(X[y_kmeans == 6, 0], X[y_kmeans == 6, 1], s = 100, c = 'red', label = 'Cluster 7')\n",
        "\n",
        "\n"
      ],
      "metadata": {
        "id": "1bbJ_du2Gubw",
        "colab": {
          "base_uri": "https://localhost:8080/",
          "height": 282
        },
        "outputId": "2d0d7c46-84f2-4c06-ce86-5534cb7b2e26"
      },
      "execution_count": 295,
      "outputs": [
        {
          "output_type": "execute_result",
          "data": {
            "text/plain": [
              "<matplotlib.collections.PathCollection at 0x7f9b3f24a890>"
            ]
          },
          "metadata": {},
          "execution_count": 295
        },
        {
          "output_type": "display_data",
          "data": {
            "image/png": "[encoded data removed]",
            "text/plain": [
              "<Figure size 432x288 with 1 Axes>"
            ]
          },
          "metadata": {
            "needs_background": "light"
          }
        }
      ]
    },
    {
      "cell_type": "markdown",
      "source": [
        "Centroids Plotation "
      ],
      "metadata": {
        "id": "_mG1iFJFGveZ"
      }
    },
    {
      "cell_type": "code",
      "source": [
        "plt.scatter(kmeans.cluster_centers_[:, 0], kmeans.cluster_centers_[:, 1], s = 300, c = 'green', label = 'Centroids')\n",
        "plt.title('Clusters TempAVG and TempHigh')\n",
        "plt.xlabel('TempAVG')\n",
        "plt.ylabel('TempHigh')\n",
        "plt.legend()\n",
        "plt.show()\n"
      ],
      "metadata": {
        "id": "rWmmhpbRG2a7",
        "colab": {
          "base_uri": "https://localhost:8080/",
          "height": 295
        },
        "outputId": "b173a5ac-496f-44f0-a3fd-0c8dfe173ad6"
      },
      "execution_count": 296,
      "outputs": [
        {
          "output_type": "display_data",
          "data": {
            "image/png": "[encoded data removed]",
            "text/plain": [
              "<Figure size 432x288 with 1 Axes>"
            ]
          },
          "metadata": {
            "needs_background": "light"
          }
        }
      ]
    },
    {
      "cell_type": "markdown",
      "source": [
        "Regression Problem/Importing Libraries "
      ],
      "metadata": {
        "id": "dGftVx0DG3S4"
      }
    },
    {
      "cell_type": "code",
      "source": [
        "import numpy as np\n",
        "import pandas as pd\n",
        "import matplotlib.pyplot as plt\n",
        "import seaborn as sns\n",
        "from sklearn.preprocessing import StandardScaler\n",
        "from sklearn.model_selection import train_test_split\n",
        "from sklearn.linear_model import LinearRegression\n",
        "from sklearn.metrics import mean_absolute_error, mean_squared_error, r2_score\n"
      ],
      "metadata": {
        "id": "9xTCV6PoHArS"
      },
      "execution_count": 297,
      "outputs": []
    },
    {
      "cell_type": "markdown",
      "source": [
        "Dataset Importing"
      ],
      "metadata": {
        "id": "ZSL7KmZBHCVA"
      }
    },
    {
      "cell_type": "code",
      "source": [
        "data = pd.read_csv(\"https://raw.githubusercontent.com/MuhammadAliAhsan/Ahsan_MLProject/main/austin_weather.csv\")\n",
        "\n",
        "data.dtypes\n"
      ],
      "metadata": {
        "id": "9Fb9Z0MDHIYf",
        "colab": {
          "base_uri": "https://localhost:8080/"
        },
        "outputId": "8ebf88d7-0549-49b6-9272-3c71ef1f723e"
      },
      "execution_count": 298,
      "outputs": [
        {
          "output_type": "execute_result",
          "data": {
            "text/plain": [
              "Date                          object\n",
              "TempHighF                      int64\n",
              "TempAvgF                       int64\n",
              "TempLowF                       int64\n",
              "DewPointHighF                 object\n",
              "DewPointAvgF                  object\n",
              "DewPointLowF                  object\n",
              "HumidityHighPercent           object\n",
              "HumidityAvgPercent            object\n",
              "HumidityLowPercent            object\n",
              "SeaLevelPressureHighInches    object\n",
              "SeaLevelPressureAvgInches     object\n",
              "SeaLevelPressureLowInches     object\n",
              "VisibilityHighMiles           object\n",
              "VisibilityAvgMiles            object\n",
              "VisibilityLowMiles            object\n",
              "WindHighMPH                   object\n",
              "WindAvgMPH                    object\n",
              "WindGustMPH                   object\n",
              "PrecipitationSumInches        object\n",
              "Events                        object\n",
              "dtype: object"
            ]
          },
          "metadata": {},
          "execution_count": 298
        }
      ]
    },
    {
      "cell_type": "markdown",
      "source": [
        "Unique Value Printing"
      ],
      "metadata": {
        "id": "00YO1JM7HJVX"
      }
    },
    {
      "cell_type": "code",
      "source": [
        "print(data['DewPointHighF'].unique())"
      ],
      "metadata": {
        "id": "1eSZHx_ZHQF4",
        "colab": {
          "base_uri": "https://localhost:8080/"
        },
        "outputId": "567c9081-0e6c-4daa-fac4-b82ba467a8d2"
      },
      "execution_count": 299,
      "outputs": [
        {
          "output_type": "stream",
          "name": "stdout",
          "text": [
            "['67' '43' '31' '36' '44' '39' '41' '49' '51' '37' '55' '54' '15' '29'\n",
            " '60' '64' '58' '28' '42' '22' '38' '45' '19' '59' '62' '40' '17' '53'\n",
            " '34' '48' '52' '61' '63' '33' '57' '65' '46' '32' '50' '27' '56' '47'\n",
            " '68' '69' '66' '70' '73' '71' '76' '72' '75' '74' '-' '77' '23' '35' '30'\n",
            " '79' '78' '80' '26' '18' '25' '13']\n"
          ]
        }
      ]
    },
    {
      "cell_type": "markdown",
      "source": [
        "Hyphen Removing"
      ],
      "metadata": {
        "id": "FtryGeWaHSAp"
      }
    },
    {
      "cell_type": "code",
      "source": [
        "data['DewPointHighF'] = data['DewPointHighF'].str.replace('-','')\n",
        "data['DewPointAvgF'] = data['DewPointAvgF'].str.replace('-','')\n",
        "data['DewPointLowF'] = data['DewPointLowF'].str.replace('-','')\n",
        "data['HumidityHighPercent'] = data['HumidityHighPercent'].str.replace('-','')\n",
        "data['HumidityAvgPercent'] = data['HumidityAvgPercent'].str.replace('-','')\n",
        "data['HumidityLowPercent'] = data['HumidityLowPercent'].str.replace('-','')\n",
        "data['SeaLevelPressureHighInches'] = data['SeaLevelPressureHighInches'].str.replace('-','')\n",
        "data['SeaLevelPressureAvgInches'] = data['SeaLevelPressureAvgInches'].str.replace('-','')\n",
        "data['SeaLevelPressureLowInches'] = data['SeaLevelPressureLowInches'].str.replace('-','')\n",
        "data['VisibilityHighMiles'] = data['VisibilityHighMiles'].str.replace('-','')\n",
        "data['VisibilityAvgMiles'] = data['VisibilityAvgMiles'].str.replace('-','')\n",
        "data['VisibilityLowMiles'] = data['VisibilityLowMiles'].str.replace('-','')\n",
        "data['WindHighMPH'] = data['WindHighMPH'].str.replace('-','')\n",
        "data['WindAvgMPH'] = data['WindAvgMPH'].str.replace('-','')\n",
        "data['WindGustMPH'] = data['WindGustMPH'].str.replace('-','')\n",
        "data['PrecipitationSumInches'] = data['PrecipitationSumInches'].str.replace('T','')\n"
      ],
      "metadata": {
        "id": "zwoC_WzRHXzL"
      },
      "execution_count": 300,
      "outputs": []
    },
    {
      "cell_type": "markdown",
      "source": [
        "Coulmn Data type Changing"
      ],
      "metadata": {
        "id": "jDRmZySaHZIF"
      }
    },
    {
      "cell_type": "code",
      "source": [
        "data['DewPointHighF'] = pd.to_numeric(data['DewPointHighF'])\n",
        "data['DewPointAvgF'] = pd.to_numeric(data['DewPointAvgF'])\n",
        "data['DewPointLowF'] = pd.to_numeric(data['DewPointLowF'])\n",
        "data['HumidityHighPercent'] = pd.to_numeric(data['HumidityHighPercent'])\n",
        "data['HumidityAvgPercent'] = pd.to_numeric(data['HumidityAvgPercent'])\n",
        "data['HumidityLowPercent'] = pd.to_numeric(data['HumidityLowPercent'])\n",
        "data['SeaLevelPressureHighInches'] = pd.to_numeric(data['SeaLevelPressureHighInches'])\n",
        "data['SeaLevelPressureAvgInches'] = pd.to_numeric(data['SeaLevelPressureAvgInches'])\n",
        "data['SeaLevelPressureLowInches'] = pd.to_numeric(data['SeaLevelPressureLowInches'])\n",
        "data['VisibilityHighMiles'] = pd.to_numeric(data['VisibilityHighMiles'])\n",
        "data['VisibilityAvgMiles'] = pd.to_numeric(data['VisibilityAvgMiles'])\n",
        "data['VisibilityLowMiles'] = pd.to_numeric(data['VisibilityLowMiles'])\n",
        "data['WindHighMPH'] = pd.to_numeric(data['WindHighMPH'])\n",
        "data['WindAvgMPH'] = pd.to_numeric(data['WindAvgMPH'])\n",
        "data['WindGustMPH'] = pd.to_numeric(data['WindGustMPH'])\n",
        "data['PrecipitationSumInches'] = pd.to_numeric(data['PrecipitationSumInches'])\n",
        "\n"
      ],
      "metadata": {
        "id": "o5dDH2BEHgM4"
      },
      "execution_count": 301,
      "outputs": []
    },
    {
      "cell_type": "markdown",
      "source": [
        "Null Value Checking"
      ],
      "metadata": {
        "id": "NvtifTpuHhQW"
      }
    },
    {
      "cell_type": "code",
      "source": [
        "data.isnull().sum()"
      ],
      "metadata": {
        "id": "ptymYT25HmWd",
        "colab": {
          "base_uri": "https://localhost:8080/"
        },
        "outputId": "069d926c-162b-4037-f566-11992d678639"
      },
      "execution_count": 302,
      "outputs": [
        {
          "output_type": "execute_result",
          "data": {
            "text/plain": [
              "Date                            0\n",
              "TempHighF                       0\n",
              "TempAvgF                        0\n",
              "TempLowF                        0\n",
              "DewPointHighF                   7\n",
              "DewPointAvgF                    7\n",
              "DewPointLowF                    7\n",
              "HumidityHighPercent             2\n",
              "HumidityAvgPercent              2\n",
              "HumidityLowPercent              2\n",
              "SeaLevelPressureHighInches      3\n",
              "SeaLevelPressureAvgInches       3\n",
              "SeaLevelPressureLowInches       3\n",
              "VisibilityHighMiles            12\n",
              "VisibilityAvgMiles             12\n",
              "VisibilityLowMiles             12\n",
              "WindHighMPH                     2\n",
              "WindAvgMPH                      2\n",
              "WindGustMPH                     4\n",
              "PrecipitationSumInches        124\n",
              "Events                          0\n",
              "dtype: int64"
            ]
          },
          "metadata": {},
          "execution_count": 302
        }
      ]
    },
    {
      "cell_type": "markdown",
      "source": [
        "Droping Null Values"
      ],
      "metadata": {
        "id": "J8s-Cuo2HnaV"
      }
    },
    {
      "cell_type": "code",
      "source": [
        "data.dropna(inplace=True)"
      ],
      "metadata": {
        "id": "sDwn8Tt_Hs-o"
      },
      "execution_count": 303,
      "outputs": []
    },
    {
      "cell_type": "markdown",
      "source": [
        "Null Value Rechecking"
      ],
      "metadata": {
        "id": "L_5L7Zk4HxCn"
      }
    },
    {
      "cell_type": "code",
      "source": [
        "data.isnull().sum()"
      ],
      "metadata": {
        "id": "4izhN9FtHzYo",
        "colab": {
          "base_uri": "https://localhost:8080/"
        },
        "outputId": "24aef151-e490-4471-97c1-0b293e183162"
      },
      "execution_count": 304,
      "outputs": [
        {
          "output_type": "execute_result",
          "data": {
            "text/plain": [
              "Date                          0\n",
              "TempHighF                     0\n",
              "TempAvgF                      0\n",
              "TempLowF                      0\n",
              "DewPointHighF                 0\n",
              "DewPointAvgF                  0\n",
              "DewPointLowF                  0\n",
              "HumidityHighPercent           0\n",
              "HumidityAvgPercent            0\n",
              "HumidityLowPercent            0\n",
              "SeaLevelPressureHighInches    0\n",
              "SeaLevelPressureAvgInches     0\n",
              "SeaLevelPressureLowInches     0\n",
              "VisibilityHighMiles           0\n",
              "VisibilityAvgMiles            0\n",
              "VisibilityLowMiles            0\n",
              "WindHighMPH                   0\n",
              "WindAvgMPH                    0\n",
              "WindGustMPH                   0\n",
              "PrecipitationSumInches        0\n",
              "Events                        0\n",
              "dtype: int64"
            ]
          },
          "metadata": {},
          "execution_count": 304
        }
      ]
    },
    {
      "cell_type": "markdown",
      "source": [
        "Data Describing "
      ],
      "metadata": {
        "id": "zRvqKXOCH0Qq"
      }
    },
    {
      "cell_type": "code",
      "source": [
        "data.describe()"
      ],
      "metadata": {
        "id": "eCyKZ_FGH5JY",
        "colab": {
          "base_uri": "https://localhost:8080/",
          "height": 361
        },
        "outputId": "9a2177b6-56d3-4be1-a2ce-e24ab910ecc8"
      },
      "execution_count": 305,
      "outputs": [
        {
          "output_type": "execute_result",
          "data": {
            "text/html": [
              "\n",
              "  <div id=\"df-8c6c25f3-a836-45df-b8da-7009123b4fd3\">\n",
              "    <div class=\"colab-df-container\">\n",
              "      <div>\n",
              "<style scoped>\n",
              "    .dataframe tbody tr th:only-of-type {\n",
              "        vertical-align: middle;\n",
              "    }\n",
              "\n",
              "    .dataframe tbody tr th {\n",
              "        vertical-align: top;\n",
              "    }\n",
              "\n",
              "    .dataframe thead th {\n",
              "        text-align: right;\n",
              "    }\n",
              "</style>\n",
              "<table border=\"1\" class=\"dataframe\">\n",
              "  <thead>\n",
              "    <tr style=\"text-align: right;\">\n",
              "      <th></th>\n",
              "      <th>TempHighF</th>\n",
              "      <th>TempAvgF</th>\n",
              "      <th>TempLowF</th>\n",
              "      <th>DewPointHighF</th>\n",
              "      <th>DewPointAvgF</th>\n",
              "      <th>DewPointLowF</th>\n",
              "      <th>HumidityHighPercent</th>\n",
              "      <th>HumidityAvgPercent</th>\n",
              "      <th>HumidityLowPercent</th>\n",
              "      <th>SeaLevelPressureHighInches</th>\n",
              "      <th>SeaLevelPressureAvgInches</th>\n",
              "      <th>SeaLevelPressureLowInches</th>\n",
              "      <th>VisibilityHighMiles</th>\n",
              "      <th>VisibilityAvgMiles</th>\n",
              "      <th>VisibilityLowMiles</th>\n",
              "      <th>WindHighMPH</th>\n",
              "      <th>WindAvgMPH</th>\n",
              "      <th>WindGustMPH</th>\n",
              "      <th>PrecipitationSumInches</th>\n",
              "    </tr>\n",
              "  </thead>\n",
              "  <tbody>\n",
              "    <tr>\n",
              "      <th>count</th>\n",
              "      <td>1183.000000</td>\n",
              "      <td>1183.000000</td>\n",
              "      <td>1183.000000</td>\n",
              "      <td>1183.000000</td>\n",
              "      <td>1183.000000</td>\n",
              "      <td>1183.000000</td>\n",
              "      <td>1183.000000</td>\n",
              "      <td>1183.000000</td>\n",
              "      <td>1183.000000</td>\n",
              "      <td>1183.000000</td>\n",
              "      <td>1183.000000</td>\n",
              "      <td>1183.000000</td>\n",
              "      <td>1183.000000</td>\n",
              "      <td>1183.000000</td>\n",
              "      <td>1183.000000</td>\n",
              "      <td>1183.000000</td>\n",
              "      <td>1183.000000</td>\n",
              "      <td>1183.000000</td>\n",
              "      <td>1183.000000</td>\n",
              "    </tr>\n",
              "    <tr>\n",
              "      <th>mean</th>\n",
              "      <td>80.952663</td>\n",
              "      <td>70.528318</td>\n",
              "      <td>59.601014</td>\n",
              "      <td>61.310228</td>\n",
              "      <td>56.384615</td>\n",
              "      <td>50.678783</td>\n",
              "      <td>87.739645</td>\n",
              "      <td>66.272189</td>\n",
              "      <td>44.295858</td>\n",
              "      <td>30.111412</td>\n",
              "      <td>30.022096</td>\n",
              "      <td>29.931175</td>\n",
              "      <td>9.990702</td>\n",
              "      <td>9.139476</td>\n",
              "      <td>6.808115</td>\n",
              "      <td>13.191040</td>\n",
              "      <td>4.975486</td>\n",
              "      <td>21.300085</td>\n",
              "      <td>0.127380</td>\n",
              "    </tr>\n",
              "    <tr>\n",
              "      <th>std</th>\n",
              "      <td>14.841901</td>\n",
              "      <td>14.142399</td>\n",
              "      <td>14.343669</td>\n",
              "      <td>13.719980</td>\n",
              "      <td>14.984651</td>\n",
              "      <td>16.281365</td>\n",
              "      <td>11.193643</td>\n",
              "      <td>12.744009</td>\n",
              "      <td>17.279440</td>\n",
              "      <td>0.180415</td>\n",
              "      <td>0.172844</td>\n",
              "      <td>0.172662</td>\n",
              "      <td>0.171826</td>\n",
              "      <td>1.477979</td>\n",
              "      <td>3.756263</td>\n",
              "      <td>3.436249</td>\n",
              "      <td>2.069088</td>\n",
              "      <td>5.878959</td>\n",
              "      <td>0.450287</td>\n",
              "    </tr>\n",
              "    <tr>\n",
              "      <th>min</th>\n",
              "      <td>32.000000</td>\n",
              "      <td>29.000000</td>\n",
              "      <td>19.000000</td>\n",
              "      <td>13.000000</td>\n",
              "      <td>8.000000</td>\n",
              "      <td>2.000000</td>\n",
              "      <td>37.000000</td>\n",
              "      <td>27.000000</td>\n",
              "      <td>10.000000</td>\n",
              "      <td>29.630000</td>\n",
              "      <td>29.550000</td>\n",
              "      <td>29.410000</td>\n",
              "      <td>5.000000</td>\n",
              "      <td>2.000000</td>\n",
              "      <td>0.000000</td>\n",
              "      <td>6.000000</td>\n",
              "      <td>1.000000</td>\n",
              "      <td>9.000000</td>\n",
              "      <td>0.000000</td>\n",
              "    </tr>\n",
              "    <tr>\n",
              "      <th>25%</th>\n",
              "      <td>72.000000</td>\n",
              "      <td>61.000000</td>\n",
              "      <td>49.000000</td>\n",
              "      <td>52.000000</td>\n",
              "      <td>46.000000</td>\n",
              "      <td>38.000000</td>\n",
              "      <td>84.000000</td>\n",
              "      <td>59.000000</td>\n",
              "      <td>31.000000</td>\n",
              "      <td>29.990000</td>\n",
              "      <td>29.910000</td>\n",
              "      <td>29.820000</td>\n",
              "      <td>10.000000</td>\n",
              "      <td>9.000000</td>\n",
              "      <td>2.000000</td>\n",
              "      <td>10.000000</td>\n",
              "      <td>3.000000</td>\n",
              "      <td>17.000000</td>\n",
              "      <td>0.000000</td>\n",
              "    </tr>\n",
              "    <tr>\n",
              "      <th>50%</th>\n",
              "      <td>83.000000</td>\n",
              "      <td>73.000000</td>\n",
              "      <td>62.000000</td>\n",
              "      <td>66.000000</td>\n",
              "      <td>61.000000</td>\n",
              "      <td>55.000000</td>\n",
              "      <td>90.000000</td>\n",
              "      <td>66.000000</td>\n",
              "      <td>42.000000</td>\n",
              "      <td>30.080000</td>\n",
              "      <td>30.000000</td>\n",
              "      <td>29.910000</td>\n",
              "      <td>10.000000</td>\n",
              "      <td>10.000000</td>\n",
              "      <td>9.000000</td>\n",
              "      <td>13.000000</td>\n",
              "      <td>5.000000</td>\n",
              "      <td>21.000000</td>\n",
              "      <td>0.000000</td>\n",
              "    </tr>\n",
              "    <tr>\n",
              "      <th>75%</th>\n",
              "      <td>93.000000</td>\n",
              "      <td>83.000000</td>\n",
              "      <td>73.000000</td>\n",
              "      <td>73.000000</td>\n",
              "      <td>69.000000</td>\n",
              "      <td>65.000000</td>\n",
              "      <td>94.000000</td>\n",
              "      <td>74.000000</td>\n",
              "      <td>54.000000</td>\n",
              "      <td>30.210000</td>\n",
              "      <td>30.100000</td>\n",
              "      <td>30.020000</td>\n",
              "      <td>10.000000</td>\n",
              "      <td>10.000000</td>\n",
              "      <td>10.000000</td>\n",
              "      <td>15.000000</td>\n",
              "      <td>6.000000</td>\n",
              "      <td>25.000000</td>\n",
              "      <td>0.010000</td>\n",
              "    </tr>\n",
              "    <tr>\n",
              "      <th>max</th>\n",
              "      <td>107.000000</td>\n",
              "      <td>93.000000</td>\n",
              "      <td>81.000000</td>\n",
              "      <td>80.000000</td>\n",
              "      <td>76.000000</td>\n",
              "      <td>75.000000</td>\n",
              "      <td>100.000000</td>\n",
              "      <td>97.000000</td>\n",
              "      <td>93.000000</td>\n",
              "      <td>30.830000</td>\n",
              "      <td>30.740000</td>\n",
              "      <td>30.610000</td>\n",
              "      <td>10.000000</td>\n",
              "      <td>10.000000</td>\n",
              "      <td>10.000000</td>\n",
              "      <td>29.000000</td>\n",
              "      <td>12.000000</td>\n",
              "      <td>57.000000</td>\n",
              "      <td>5.200000</td>\n",
              "    </tr>\n",
              "  </tbody>\n",
              "</table>\n",
              "</div>\n",
              "      <button class=\"colab-df-convert\" onclick=\"convertToInteractive('df-8c6c25f3-a836-45df-b8da-7009123b4fd3')\"\n",
              "              title=\"Convert this dataframe to an interactive table.\"\n",
              "              style=\"display:none;\">\n",
              "        \n",
              "  <svg xmlns=\"http://www.w3.org/2000/svg\" height=\"24px\"viewBox=\"0 0 24 24\"\n",
              "       width=\"24px\">\n",
              "    <path d=\"M0 0h24v24H0V0z\" fill=\"none\"/>\n",
              "    <path d=\"M18.56 5.44l.94 2.06.94-2.06 2.06-.94-2.06-.94-.94-2.06-.94 2.06-2.06.94zm-11 1L8.5 8.5l.94-2.06 2.06-.94-2.06-.94L8.5 2.5l-.94 2.06-2.06.94zm10 10l.94 2.06.94-2.06 2.06-.94-2.06-.94-.94-2.06-.94 2.06-2.06.94z\"/><path d=\"M17.41 7.96l-1.37-1.37c-.4-.4-.92-.59-1.43-.59-.52 0-1.04.2-1.43.59L10.3 9.45l-7.72 7.72c-.78.78-.78 2.05 0 2.83L4 21.41c.39.39.9.59 1.41.59.51 0 1.02-.2 1.41-.59l7.78-7.78 2.81-2.81c.8-.78.8-2.07 0-2.86zM5.41 20L4 18.59l7.72-7.72 1.47 1.35L5.41 20z\"/>\n",
              "  </svg>\n",
              "      </button>\n",
              "      \n",
              "  <style>\n",
              "    .colab-df-container {\n",
              "      display:flex;\n",
              "      flex-wrap:wrap;\n",
              "      gap: 12px;\n",
              "    }\n",
              "\n",
              "    .colab-df-convert {\n",
              "      background-color: #E8F0FE;\n",
              "      border: none;\n",
              "      border-radius: 50%;\n",
              "      cursor: pointer;\n",
              "      display: none;\n",
              "      fill: #1967D2;\n",
              "      height: 32px;\n",
              "      padding: 0 0 0 0;\n",
              "      width: 32px;\n",
              "    }\n",
              "\n",
              "    .colab-df-convert:hover {\n",
              "      background-color: #E2EBFA;\n",
              "      box-shadow: 0px 1px 2px rgba(60, 64, 67, 0.3), 0px 1px 3px 1px rgba(60, 64, 67, 0.15);\n",
              "      fill: #174EA6;\n",
              "    }\n",
              "\n",
              "    [theme=dark] .colab-df-convert {\n",
              "      background-color: #3B4455;\n",
              "      fill: #D2E3FC;\n",
              "    }\n",
              "\n",
              "    [theme=dark] .colab-df-convert:hover {\n",
              "      background-color: #434B5C;\n",
              "      box-shadow: 0px 1px 3px 1px rgba(0, 0, 0, 0.15);\n",
              "      filter: drop-shadow(0px 1px 2px rgba(0, 0, 0, 0.3));\n",
              "      fill: #FFFFFF;\n",
              "    }\n",
              "  </style>\n",
              "\n",
              "      <script>\n",
              "        const buttonEl =\n",
              "          document.querySelector('#df-8c6c25f3-a836-45df-b8da-7009123b4fd3 button.colab-df-convert');\n",
              "        buttonEl.style.display =\n",
              "          google.colab.kernel.accessAllowed ? 'block' : 'none';\n",
              "\n",
              "        async function convertToInteractive(key) {\n",
              "          const element = document.querySelector('#df-8c6c25f3-a836-45df-b8da-7009123b4fd3');\n",
              "          const dataTable =\n",
              "            await google.colab.kernel.invokeFunction('convertToInteractive',\n",
              "                                                     [key], {});\n",
              "          if (!dataTable) return;\n",
              "\n",
              "          const docLinkHtml = 'Like what you see? Visit the ' +\n",
              "            '<a target=\"_blank\" href=https://colab.research.google.com/notebooks/data_table.ipynb>data table notebook</a>'\n",
              "            + ' to learn more about interactive tables.';\n",
              "          element.innerHTML = '';\n",
              "          dataTable['output_type'] = 'display_data';\n",
              "          await google.colab.output.renderOutput(dataTable, element);\n",
              "          const docLink = document.createElement('div');\n",
              "          docLink.innerHTML = docLinkHtml;\n",
              "          element.appendChild(docLink);\n",
              "        }\n",
              "      </script>\n",
              "    </div>\n",
              "  </div>\n",
              "  "
            ],
            "text/plain": [
              "         TempHighF     TempAvgF  ...  WindGustMPH  PrecipitationSumInches\n",
              "count  1183.000000  1183.000000  ...  1183.000000             1183.000000\n",
              "mean     80.952663    70.528318  ...    21.300085                0.127380\n",
              "std      14.841901    14.142399  ...     5.878959                0.450287\n",
              "min      32.000000    29.000000  ...     9.000000                0.000000\n",
              "25%      72.000000    61.000000  ...    17.000000                0.000000\n",
              "50%      83.000000    73.000000  ...    21.000000                0.000000\n",
              "75%      93.000000    83.000000  ...    25.000000                0.010000\n",
              "max     107.000000    93.000000  ...    57.000000                5.200000\n",
              "\n",
              "[8 rows x 19 columns]"
            ]
          },
          "metadata": {},
          "execution_count": 305
        }
      ]
    },
    {
      "cell_type": "markdown",
      "source": [
        "Separation of Features as Date,Month,Year"
      ],
      "metadata": {
        "id": "uHGMoqy5H6C0"
      }
    },
    {
      "cell_type": "code",
      "source": [
        "data['Date'] = pd.to_datetime(data['Date'])\n",
        "data['Year'] = pd.DatetimeIndex(data['Date']).year\n",
        "data['Month'] = pd.DatetimeIndex(data['Date']).month\n",
        "\n",
        "data.drop(columns='Date',inplace=True)\n",
        "\n"
      ],
      "metadata": {
        "id": "XHacdOI5IGHx"
      },
      "execution_count": 306,
      "outputs": []
    },
    {
      "cell_type": "markdown",
      "source": [
        "Plot Distribution"
      ],
      "metadata": {
        "id": "ual1Ibf5IHCV"
      }
    },
    {
      "cell_type": "code",
      "source": [
        "sns.distplot(data['PrecipitationSumInches'],bins=10)\n",
        "\n",
        "data[['TempAvgF','DewPointAvgF','HumidityAvgPercent','SeaLevelPressureAvgInches','VisibilityAvgMiles','WindAvgMPH','PrecipitationSumInches','Events','Year','Month']]\n"
      ],
      "metadata": {
        "id": "ORVc1rVQINf1",
        "colab": {
          "base_uri": "https://localhost:8080/",
          "height": 796
        },
        "outputId": "ffe8a7b4-3fe0-4a52-ac46-312b8a0bcd3a"
      },
      "execution_count": 307,
      "outputs": [
        {
          "output_type": "stream",
          "name": "stderr",
          "text": [
            "/usr/local/lib/python3.7/dist-packages/seaborn/distributions.py:2619: FutureWarning: `distplot` is a deprecated function and will be removed in a future version. Please adapt your code to use either `displot` (a figure-level function with similar flexibility) or `histplot` (an axes-level function for histograms).\n",
            "  warnings.warn(msg, FutureWarning)\n"
          ]
        },
        {
          "output_type": "execute_result",
          "data": {
            "text/html": [
              "\n",
              "  <div id=\"df-4cd320ae-935e-4a70-b373-ec81750eff2c\">\n",
              "    <div class=\"colab-df-container\">\n",
              "      <div>\n",
              "<style scoped>\n",
              "    .dataframe tbody tr th:only-of-type {\n",
              "        vertical-align: middle;\n",
              "    }\n",
              "\n",
              "    .dataframe tbody tr th {\n",
              "        vertical-align: top;\n",
              "    }\n",
              "\n",
              "    .dataframe thead th {\n",
              "        text-align: right;\n",
              "    }\n",
              "</style>\n",
              "<table border=\"1\" class=\"dataframe\">\n",
              "  <thead>\n",
              "    <tr style=\"text-align: right;\">\n",
              "      <th></th>\n",
              "      <th>TempAvgF</th>\n",
              "      <th>DewPointAvgF</th>\n",
              "      <th>HumidityAvgPercent</th>\n",
              "      <th>SeaLevelPressureAvgInches</th>\n",
              "      <th>VisibilityAvgMiles</th>\n",
              "      <th>WindAvgMPH</th>\n",
              "      <th>PrecipitationSumInches</th>\n",
              "      <th>Events</th>\n",
              "      <th>Year</th>\n",
              "      <th>Month</th>\n",
              "    </tr>\n",
              "  </thead>\n",
              "  <tbody>\n",
              "    <tr>\n",
              "      <th>0</th>\n",
              "      <td>60</td>\n",
              "      <td>49.0</td>\n",
              "      <td>75.0</td>\n",
              "      <td>29.68</td>\n",
              "      <td>7.0</td>\n",
              "      <td>4.0</td>\n",
              "      <td>0.46</td>\n",
              "      <td>Rain , Thunderstorm</td>\n",
              "      <td>2013</td>\n",
              "      <td>12</td>\n",
              "    </tr>\n",
              "    <tr>\n",
              "      <th>1</th>\n",
              "      <td>48</td>\n",
              "      <td>36.0</td>\n",
              "      <td>68.0</td>\n",
              "      <td>30.13</td>\n",
              "      <td>10.0</td>\n",
              "      <td>6.0</td>\n",
              "      <td>0.00</td>\n",
              "      <td></td>\n",
              "      <td>2013</td>\n",
              "      <td>12</td>\n",
              "    </tr>\n",
              "    <tr>\n",
              "      <th>2</th>\n",
              "      <td>45</td>\n",
              "      <td>27.0</td>\n",
              "      <td>52.0</td>\n",
              "      <td>30.49</td>\n",
              "      <td>10.0</td>\n",
              "      <td>3.0</td>\n",
              "      <td>0.00</td>\n",
              "      <td></td>\n",
              "      <td>2013</td>\n",
              "      <td>12</td>\n",
              "    </tr>\n",
              "    <tr>\n",
              "      <th>3</th>\n",
              "      <td>46</td>\n",
              "      <td>28.0</td>\n",
              "      <td>56.0</td>\n",
              "      <td>30.45</td>\n",
              "      <td>10.0</td>\n",
              "      <td>4.0</td>\n",
              "      <td>0.00</td>\n",
              "      <td></td>\n",
              "      <td>2013</td>\n",
              "      <td>12</td>\n",
              "    </tr>\n",
              "    <tr>\n",
              "      <th>5</th>\n",
              "      <td>48</td>\n",
              "      <td>36.0</td>\n",
              "      <td>63.0</td>\n",
              "      <td>30.40</td>\n",
              "      <td>9.0</td>\n",
              "      <td>3.0</td>\n",
              "      <td>0.00</td>\n",
              "      <td></td>\n",
              "      <td>2013</td>\n",
              "      <td>12</td>\n",
              "    </tr>\n",
              "    <tr>\n",
              "      <th>...</th>\n",
              "      <td>...</td>\n",
              "      <td>...</td>\n",
              "      <td>...</td>\n",
              "      <td>...</td>\n",
              "      <td>...</td>\n",
              "      <td>...</td>\n",
              "      <td>...</td>\n",
              "      <td>...</td>\n",
              "      <td>...</td>\n",
              "      <td>...</td>\n",
              "    </tr>\n",
              "    <tr>\n",
              "      <th>1314</th>\n",
              "      <td>89</td>\n",
              "      <td>67.0</td>\n",
              "      <td>54.0</td>\n",
              "      <td>29.97</td>\n",
              "      <td>10.0</td>\n",
              "      <td>5.0</td>\n",
              "      <td>0.00</td>\n",
              "      <td></td>\n",
              "      <td>2017</td>\n",
              "      <td>7</td>\n",
              "    </tr>\n",
              "    <tr>\n",
              "      <th>1315</th>\n",
              "      <td>91</td>\n",
              "      <td>64.0</td>\n",
              "      <td>54.0</td>\n",
              "      <td>29.90</td>\n",
              "      <td>10.0</td>\n",
              "      <td>5.0</td>\n",
              "      <td>0.00</td>\n",
              "      <td></td>\n",
              "      <td>2017</td>\n",
              "      <td>7</td>\n",
              "    </tr>\n",
              "    <tr>\n",
              "      <th>1316</th>\n",
              "      <td>92</td>\n",
              "      <td>64.0</td>\n",
              "      <td>51.0</td>\n",
              "      <td>29.86</td>\n",
              "      <td>10.0</td>\n",
              "      <td>4.0</td>\n",
              "      <td>0.00</td>\n",
              "      <td></td>\n",
              "      <td>2017</td>\n",
              "      <td>7</td>\n",
              "    </tr>\n",
              "    <tr>\n",
              "      <th>1317</th>\n",
              "      <td>93</td>\n",
              "      <td>68.0</td>\n",
              "      <td>48.0</td>\n",
              "      <td>29.91</td>\n",
              "      <td>10.0</td>\n",
              "      <td>4.0</td>\n",
              "      <td>0.00</td>\n",
              "      <td></td>\n",
              "      <td>2017</td>\n",
              "      <td>7</td>\n",
              "    </tr>\n",
              "    <tr>\n",
              "      <th>1318</th>\n",
              "      <td>88</td>\n",
              "      <td>61.0</td>\n",
              "      <td>43.0</td>\n",
              "      <td>29.97</td>\n",
              "      <td>10.0</td>\n",
              "      <td>4.0</td>\n",
              "      <td>0.00</td>\n",
              "      <td></td>\n",
              "      <td>2017</td>\n",
              "      <td>7</td>\n",
              "    </tr>\n",
              "  </tbody>\n",
              "</table>\n",
              "<p>1183 rows × 10 columns</p>\n",
              "</div>\n",
              "      <button class=\"colab-df-convert\" onclick=\"convertToInteractive('df-4cd320ae-935e-4a70-b373-ec81750eff2c')\"\n",
              "              title=\"Convert this dataframe to an interactive table.\"\n",
              "              style=\"display:none;\">\n",
              "        \n",
              "  <svg xmlns=\"http://www.w3.org/2000/svg\" height=\"24px\"viewBox=\"0 0 24 24\"\n",
              "       width=\"24px\">\n",
              "    <path d=\"M0 0h24v24H0V0z\" fill=\"none\"/>\n",
              "    <path d=\"M18.56 5.44l.94 2.06.94-2.06 2.06-.94-2.06-.94-.94-2.06-.94 2.06-2.06.94zm-11 1L8.5 8.5l.94-2.06 2.06-.94-2.06-.94L8.5 2.5l-.94 2.06-2.06.94zm10 10l.94 2.06.94-2.06 2.06-.94-2.06-.94-.94-2.06-.94 2.06-2.06.94z\"/><path d=\"M17.41 7.96l-1.37-1.37c-.4-.4-.92-.59-1.43-.59-.52 0-1.04.2-1.43.59L10.3 9.45l-7.72 7.72c-.78.78-.78 2.05 0 2.83L4 21.41c.39.39.9.59 1.41.59.51 0 1.02-.2 1.41-.59l7.78-7.78 2.81-2.81c.8-.78.8-2.07 0-2.86zM5.41 20L4 18.59l7.72-7.72 1.47 1.35L5.41 20z\"/>\n",
              "  </svg>\n",
              "      </button>\n",
              "      \n",
              "  <style>\n",
              "    .colab-df-container {\n",
              "      display:flex;\n",
              "      flex-wrap:wrap;\n",
              "      gap: 12px;\n",
              "    }\n",
              "\n",
              "    .colab-df-convert {\n",
              "      background-color: #E8F0FE;\n",
              "      border: none;\n",
              "      border-radius: 50%;\n",
              "      cursor: pointer;\n",
              "      display: none;\n",
              "      fill: #1967D2;\n",
              "      height: 32px;\n",
              "      padding: 0 0 0 0;\n",
              "      width: 32px;\n",
              "    }\n",
              "\n",
              "    .colab-df-convert:hover {\n",
              "      background-color: #E2EBFA;\n",
              "      box-shadow: 0px 1px 2px rgba(60, 64, 67, 0.3), 0px 1px 3px 1px rgba(60, 64, 67, 0.15);\n",
              "      fill: #174EA6;\n",
              "    }\n",
              "\n",
              "    [theme=dark] .colab-df-convert {\n",
              "      background-color: #3B4455;\n",
              "      fill: #D2E3FC;\n",
              "    }\n",
              "\n",
              "    [theme=dark] .colab-df-convert:hover {\n",
              "      background-color: #434B5C;\n",
              "      box-shadow: 0px 1px 3px 1px rgba(0, 0, 0, 0.15);\n",
              "      filter: drop-shadow(0px 1px 2px rgba(0, 0, 0, 0.3));\n",
              "      fill: #FFFFFF;\n",
              "    }\n",
              "  </style>\n",
              "\n",
              "      <script>\n",
              "        const buttonEl =\n",
              "          document.querySelector('#df-4cd320ae-935e-4a70-b373-ec81750eff2c button.colab-df-convert');\n",
              "        buttonEl.style.display =\n",
              "          google.colab.kernel.accessAllowed ? 'block' : 'none';\n",
              "\n",
              "        async function convertToInteractive(key) {\n",
              "          const element = document.querySelector('#df-4cd320ae-935e-4a70-b373-ec81750eff2c');\n",
              "          const dataTable =\n",
              "            await google.colab.kernel.invokeFunction('convertToInteractive',\n",
              "                                                     [key], {});\n",
              "          if (!dataTable) return;\n",
              "\n",
              "          const docLinkHtml = 'Like what you see? Visit the ' +\n",
              "            '<a target=\"_blank\" href=https://colab.research.google.com/notebooks/data_table.ipynb>data table notebook</a>'\n",
              "            + ' to learn more about interactive tables.';\n",
              "          element.innerHTML = '';\n",
              "          dataTable['output_type'] = 'display_data';\n",
              "          await google.colab.output.renderOutput(dataTable, element);\n",
              "          const docLink = document.createElement('div');\n",
              "          docLink.innerHTML = docLinkHtml;\n",
              "          element.appendChild(docLink);\n",
              "        }\n",
              "      </script>\n",
              "    </div>\n",
              "  </div>\n",
              "  "
            ],
            "text/plain": [
              "      TempAvgF  DewPointAvgF  ...  Year  Month\n",
              "0           60          49.0  ...  2013     12\n",
              "1           48          36.0  ...  2013     12\n",
              "2           45          27.0  ...  2013     12\n",
              "3           46          28.0  ...  2013     12\n",
              "5           48          36.0  ...  2013     12\n",
              "...        ...           ...  ...   ...    ...\n",
              "1314        89          67.0  ...  2017      7\n",
              "1315        91          64.0  ...  2017      7\n",
              "1316        92          64.0  ...  2017      7\n",
              "1317        93          68.0  ...  2017      7\n",
              "1318        88          61.0  ...  2017      7\n",
              "\n",
              "[1183 rows x 10 columns]"
            ]
          },
          "metadata": {},
          "execution_count": 307
        },
        {
          "output_type": "display_data",
          "data": {
            "image/png": "[encoded data removed]",
            "text/plain": [
              "<Figure size 432x288 with 1 Axes>"
            ]
          },
          "metadata": {
            "needs_background": "light"
          }
        }
      ]
    },
    {
      "cell_type": "markdown",
      "source": [
        "Extra Feature Removal/Selecting Features "
      ],
      "metadata": {
        "id": "l0Ap-hhWIOON"
      }
    },
    {
      "cell_type": "code",
      "source": [
        "x = data.drop(columns=['PrecipitationSumInches','Events','Year'])"
      ],
      "metadata": {
        "id": "kwY-lJJpIWPn"
      },
      "execution_count": 308,
      "outputs": []
    },
    {
      "cell_type": "markdown",
      "source": [
        "Predicted Dependent Feature & X Plotting "
      ],
      "metadata": {
        "id": "yCAA0nANIXL6"
      }
    },
    {
      "cell_type": "code",
      "source": [
        "y = data['PrecipitationSumInches']\n",
        "x.plot()"
      ],
      "metadata": {
        "id": "aNfuVdkqIee8",
        "colab": {
          "base_uri": "https://localhost:8080/",
          "height": 341
        },
        "outputId": "7217bd4e-de3c-46e5-c685-f2ac10eb4402"
      },
      "execution_count": 309,
      "outputs": [
        {
          "output_type": "execute_result",
          "data": {
            "text/plain": [
              "<matplotlib.axes._subplots.AxesSubplot at 0x7f9b3e7f2310>"
            ]
          },
          "metadata": {},
          "execution_count": 309
        },
        {
          "output_type": "display_data",
          "data": {
            "image/png": "[encoded data removed]",
            "text/plain": [
              "<Figure size 432x288 with 1 Axes>"
            ]
          },
          "metadata": {
            "needs_background": "light"
          }
        }
      ]
    },
    {
      "cell_type": "markdown",
      "source": [
        "Plot Distribution "
      ],
      "metadata": {
        "id": "bFWdlwRvIfL3"
      }
    },
    {
      "cell_type": "code",
      "source": [
        "sns.distplot(y,bins = 20, kde = True)\n"
      ],
      "metadata": {
        "id": "jVhwE0oaIt8A",
        "colab": {
          "base_uri": "https://localhost:8080/",
          "height": 350
        },
        "outputId": "fe2e700f-87aa-4285-ff86-7b5b57671ef1"
      },
      "execution_count": 310,
      "outputs": [
        {
          "output_type": "stream",
          "name": "stderr",
          "text": [
            "/usr/local/lib/python3.7/dist-packages/seaborn/distributions.py:2619: FutureWarning: `distplot` is a deprecated function and will be removed in a future version. Please adapt your code to use either `displot` (a figure-level function with similar flexibility) or `histplot` (an axes-level function for histograms).\n",
            "  warnings.warn(msg, FutureWarning)\n"
          ]
        },
        {
          "output_type": "execute_result",
          "data": {
            "text/plain": [
              "<matplotlib.axes._subplots.AxesSubplot at 0x7f9b427c3190>"
            ]
          },
          "metadata": {},
          "execution_count": 310
        },
        {
          "output_type": "display_data",
          "data": {
            "image/png": "[encoded data removed]",
            "text/plain": [
              "<Figure size 432x288 with 1 Axes>"
            ]
          },
          "metadata": {
            "needs_background": "light"
          }
        }
      ]
    },
    {
      "cell_type": "markdown",
      "source": [
        "Printing Corealtion"
      ],
      "metadata": {
        "id": "nHsAu61nIvPX"
      }
    },
    {
      "cell_type": "code",
      "source": [
        "correlation = x.corr()\n",
        "print(correlation)\n"
      ],
      "metadata": {
        "id": "6kikKoJWIz5C",
        "colab": {
          "base_uri": "https://localhost:8080/"
        },
        "outputId": "10b7fa20-e055-4934-e993-c0fa4d305b91"
      },
      "execution_count": 311,
      "outputs": [
        {
          "output_type": "stream",
          "name": "stdout",
          "text": [
            "                            TempHighF  TempAvgF  ...  WindGustMPH     Month\n",
            "TempHighF                    1.000000  0.970712  ...     0.031588  0.212102\n",
            "TempAvgF                     0.970712  1.000000  ...     0.026634  0.247494\n",
            "TempLowF                     0.881366  0.968721  ...     0.020634  0.269413\n",
            "DewPointHighF                0.805128  0.878536  ...     0.108611  0.261846\n",
            "DewPointAvgF                 0.801641  0.892328  ...     0.039523  0.274662\n",
            "DewPointLowF                 0.759948  0.861853  ...    -0.032889  0.273711\n",
            "HumidityHighPercent          0.124567  0.203647  ...    -0.006808  0.136295\n",
            "HumidityAvgPercent          -0.120606  0.025413  ...     0.004194  0.119639\n",
            "HumidityLowPercent          -0.257929 -0.094412  ...     0.010260  0.088448\n",
            "SeaLevelPressureHighInches  -0.674988 -0.692963  ...    -0.166940 -0.079990\n",
            "SeaLevelPressureAvgInches   -0.612021 -0.620318  ...    -0.259220 -0.039515\n",
            "SeaLevelPressureLowInches   -0.533515 -0.535976  ...    -0.342933  0.010560\n",
            "VisibilityHighMiles          0.105322  0.094980  ...     0.059716  0.060177\n",
            "VisibilityAvgMiles           0.315786  0.223782  ...    -0.062268  0.119342\n",
            "VisibilityLowMiles           0.222140  0.124523  ...    -0.172856  0.051029\n",
            "WindHighMPH                  0.016783  0.015278  ...     0.929724 -0.197511\n",
            "WindAvgMPH                  -0.006953  0.032767  ...     0.677475 -0.216879\n",
            "WindGustMPH                  0.031588  0.026634  ...     1.000000 -0.206422\n",
            "Month                        0.212102  0.247494  ...    -0.206422  1.000000\n",
            "\n",
            "[19 rows x 19 columns]\n"
          ]
        }
      ]
    },
    {
      "cell_type": "markdown",
      "source": [
        "Corealtion plotting"
      ],
      "metadata": {
        "id": "uoObsBlUI0mr"
      }
    },
    {
      "cell_type": "code",
      "source": [
        "sns.heatmap(x.corr(),  cmap=\"YlGnBu\", vmax=.3, center=0,\n",
        "            square=True, linewidths=.5, cbar_kws={\"shrink\": .5})\n",
        "plt.show()\n",
        "\n"
      ],
      "metadata": {
        "id": "RvlgZRIlI5Xj",
        "colab": {
          "base_uri": "https://localhost:8080/",
          "height": 399
        },
        "outputId": "40316811-cf05-4c46-feb2-c97433beaecd"
      },
      "execution_count": 312,
      "outputs": [
        {
          "output_type": "display_data",
          "data": {
            "image/png": "[encoded data removed]",
            "text/plain": [
              "<Figure size 432x288 with 2 Axes>"
            ]
          },
          "metadata": {
            "needs_background": "light"
          }
        }
      ]
    },
    {
      "cell_type": "markdown",
      "source": [
        "For Normalizing Data/ Standard Scale"
      ],
      "metadata": {
        "id": "y2_4QAZ1I53-"
      }
    },
    {
      "cell_type": "code",
      "source": [
        "sc = StandardScaler()\n",
        "x_std = sc.fit_transform(x)\n",
        "x_std = pd.DataFrame(x_std,columns=x.columns)\n"
      ],
      "metadata": {
        "id": "-0uyxBMAJHG-"
      },
      "execution_count": 313,
      "outputs": []
    },
    {
      "cell_type": "markdown",
      "source": [
        "Dataset Splitting "
      ],
      "metadata": {
        "id": "1fgXWuFqJIJH"
      }
    },
    {
      "cell_type": "code",
      "source": [
        "x_train,x_test,y_train,y_test = train_test_split(x_std,y,test_size=0.2,random_state=42)\n"
      ],
      "metadata": {
        "id": "Ju8RiDtbJMyu"
      },
      "execution_count": 314,
      "outputs": []
    },
    {
      "cell_type": "markdown",
      "source": [
        "Regression Analysis "
      ],
      "metadata": {
        "id": "DTv6_2n_JNgl"
      }
    },
    {
      "cell_type": "code",
      "source": [
        "reg_model = LinearRegression()\n",
        "reg_model.fit(x_train,y_train)\n"
      ],
      "metadata": {
        "id": "I0wscGuiJSMa",
        "colab": {
          "base_uri": "https://localhost:8080/"
        },
        "outputId": "f1b72524-0f91-44c5-e9ea-a6c93081df0e"
      },
      "execution_count": 315,
      "outputs": [
        {
          "output_type": "execute_result",
          "data": {
            "text/plain": [
              "LinearRegression()"
            ]
          },
          "metadata": {},
          "execution_count": 315
        }
      ]
    },
    {
      "cell_type": "markdown",
      "source": [
        "Dependent Variable Prediction"
      ],
      "metadata": {
        "id": "lzRRkgVCJSy7"
      }
    },
    {
      "cell_type": "code",
      "source": [
        "y_predicted = reg_model.predict(x_test)"
      ],
      "metadata": {
        "id": "PUygypqRJaV-"
      },
      "execution_count": 316,
      "outputs": []
    },
    {
      "cell_type": "markdown",
      "source": [
        "Result Evaluation"
      ],
      "metadata": {
        "id": "1SdFEyq_JbY2"
      }
    },
    {
      "cell_type": "code",
      "source": [
        "print('Mean absolute error = ' + str(mean_absolute_error(y_test, y_predicted)))\n",
        "print('Mean squared error = ' + str(mean_squared_error(y_test, y_predicted)))\n",
        "print('R2 score = ' + str(r2_score(y_test, y_predicted)))\n",
        "perc = r2_score(y_test, y_predicted)\n",
        "print(\"R2 Linear Regression Score :{:.1%}\".format(perc))\n",
        "\n"
      ],
      "metadata": {
        "id": "l_Qvw8FyJg4-",
        "colab": {
          "base_uri": "https://localhost:8080/"
        },
        "outputId": "4c9fc3b6-044c-4318-d898-0c83969c023d"
      },
      "execution_count": 317,
      "outputs": [
        {
          "output_type": "stream",
          "name": "stdout",
          "text": [
            "Mean absolute error = 0.18399138713597485\n",
            "Mean squared error = 0.10947044385464896\n",
            "R2 score = 0.42453712249385156\n",
            "R2 Linear Regression Score :42.5%\n"
          ]
        }
      ]
    },
    {
      "cell_type": "markdown",
      "source": [
        "Classification problem/Libraries Importing"
      ],
      "metadata": {
        "id": "M-2IZ-_zJhnX"
      }
    },
    {
      "cell_type": "code",
      "source": [
        "import numpy as np\n",
        "import pandas as pd\n",
        "from sklearn import tree\n",
        "from sklearn.metrics import accuracy_score\n",
        "import graphviz\n",
        "from sklearn.model_selection import train_test_split\n",
        "import matplotlib.pyplot as plt\n",
        "import seaborn as sns\n"
      ],
      "metadata": {
        "id": "88tflRsgJqIp"
      },
      "execution_count": 318,
      "outputs": []
    },
    {
      "cell_type": "markdown",
      "source": [
        "Dataset Importing"
      ],
      "metadata": {
        "id": "SEXiBE9RJq2L"
      }
    },
    {
      "cell_type": "code",
      "source": [
        "data = pd.read_csv('https://raw.githubusercontent.com/MuhammadAliAhsan/Ahsan_MLProject/main/austin_weather.csv', parse_dates=['Date'])\n"
      ],
      "metadata": {
        "id": "jtxkxopoJvnv"
      },
      "execution_count": 319,
      "outputs": []
    },
    {
      "cell_type": "markdown",
      "source": [
        "Dataset Description "
      ],
      "metadata": {
        "id": "ASIraKnjJwd0"
      }
    },
    {
      "cell_type": "code",
      "source": [
        "data.describe()\n"
      ],
      "metadata": {
        "id": "8r2CRNtiJ0s6",
        "colab": {
          "base_uri": "https://localhost:8080/",
          "height": 297
        },
        "outputId": "f4904cca-1171-4267-a46a-982f5177c3f0"
      },
      "execution_count": 320,
      "outputs": [
        {
          "output_type": "execute_result",
          "data": {
            "text/html": [
              "\n",
              "  <div id=\"df-712102b4-b8b1-413a-bf87-57d2d39d03c0\">\n",
              "    <div class=\"colab-df-container\">\n",
              "      <div>\n",
              "<style scoped>\n",
              "    .dataframe tbody tr th:only-of-type {\n",
              "        vertical-align: middle;\n",
              "    }\n",
              "\n",
              "    .dataframe tbody tr th {\n",
              "        vertical-align: top;\n",
              "    }\n",
              "\n",
              "    .dataframe thead th {\n",
              "        text-align: right;\n",
              "    }\n",
              "</style>\n",
              "<table border=\"1\" class=\"dataframe\">\n",
              "  <thead>\n",
              "    <tr style=\"text-align: right;\">\n",
              "      <th></th>\n",
              "      <th>TempHighF</th>\n",
              "      <th>TempAvgF</th>\n",
              "      <th>TempLowF</th>\n",
              "    </tr>\n",
              "  </thead>\n",
              "  <tbody>\n",
              "    <tr>\n",
              "      <th>count</th>\n",
              "      <td>1319.000000</td>\n",
              "      <td>1319.000000</td>\n",
              "      <td>1319.000000</td>\n",
              "    </tr>\n",
              "    <tr>\n",
              "      <th>mean</th>\n",
              "      <td>80.862775</td>\n",
              "      <td>70.642911</td>\n",
              "      <td>59.902957</td>\n",
              "    </tr>\n",
              "    <tr>\n",
              "      <th>std</th>\n",
              "      <td>14.766523</td>\n",
              "      <td>14.045904</td>\n",
              "      <td>14.190648</td>\n",
              "    </tr>\n",
              "    <tr>\n",
              "      <th>min</th>\n",
              "      <td>32.000000</td>\n",
              "      <td>29.000000</td>\n",
              "      <td>19.000000</td>\n",
              "    </tr>\n",
              "    <tr>\n",
              "      <th>25%</th>\n",
              "      <td>72.000000</td>\n",
              "      <td>62.000000</td>\n",
              "      <td>49.000000</td>\n",
              "    </tr>\n",
              "    <tr>\n",
              "      <th>50%</th>\n",
              "      <td>83.000000</td>\n",
              "      <td>73.000000</td>\n",
              "      <td>63.000000</td>\n",
              "    </tr>\n",
              "    <tr>\n",
              "      <th>75%</th>\n",
              "      <td>92.000000</td>\n",
              "      <td>83.000000</td>\n",
              "      <td>73.000000</td>\n",
              "    </tr>\n",
              "    <tr>\n",
              "      <th>max</th>\n",
              "      <td>107.000000</td>\n",
              "      <td>93.000000</td>\n",
              "      <td>81.000000</td>\n",
              "    </tr>\n",
              "  </tbody>\n",
              "</table>\n",
              "</div>\n",
              "      <button class=\"colab-df-convert\" onclick=\"convertToInteractive('df-712102b4-b8b1-413a-bf87-57d2d39d03c0')\"\n",
              "              title=\"Convert this dataframe to an interactive table.\"\n",
              "              style=\"display:none;\">\n",
              "        \n",
              "  <svg xmlns=\"http://www.w3.org/2000/svg\" height=\"24px\"viewBox=\"0 0 24 24\"\n",
              "       width=\"24px\">\n",
              "    <path d=\"M0 0h24v24H0V0z\" fill=\"none\"/>\n",
              "    <path d=\"M18.56 5.44l.94 2.06.94-2.06 2.06-.94-2.06-.94-.94-2.06-.94 2.06-2.06.94zm-11 1L8.5 8.5l.94-2.06 2.06-.94-2.06-.94L8.5 2.5l-.94 2.06-2.06.94zm10 10l.94 2.06.94-2.06 2.06-.94-2.06-.94-.94-2.06-.94 2.06-2.06.94z\"/><path d=\"M17.41 7.96l-1.37-1.37c-.4-.4-.92-.59-1.43-.59-.52 0-1.04.2-1.43.59L10.3 9.45l-7.72 7.72c-.78.78-.78 2.05 0 2.83L4 21.41c.39.39.9.59 1.41.59.51 0 1.02-.2 1.41-.59l7.78-7.78 2.81-2.81c.8-.78.8-2.07 0-2.86zM5.41 20L4 18.59l7.72-7.72 1.47 1.35L5.41 20z\"/>\n",
              "  </svg>\n",
              "      </button>\n",
              "      \n",
              "  <style>\n",
              "    .colab-df-container {\n",
              "      display:flex;\n",
              "      flex-wrap:wrap;\n",
              "      gap: 12px;\n",
              "    }\n",
              "\n",
              "    .colab-df-convert {\n",
              "      background-color: #E8F0FE;\n",
              "      border: none;\n",
              "      border-radius: 50%;\n",
              "      cursor: pointer;\n",
              "      display: none;\n",
              "      fill: #1967D2;\n",
              "      height: 32px;\n",
              "      padding: 0 0 0 0;\n",
              "      width: 32px;\n",
              "    }\n",
              "\n",
              "    .colab-df-convert:hover {\n",
              "      background-color: #E2EBFA;\n",
              "      box-shadow: 0px 1px 2px rgba(60, 64, 67, 0.3), 0px 1px 3px 1px rgba(60, 64, 67, 0.15);\n",
              "      fill: #174EA6;\n",
              "    }\n",
              "\n",
              "    [theme=dark] .colab-df-convert {\n",
              "      background-color: #3B4455;\n",
              "      fill: #D2E3FC;\n",
              "    }\n",
              "\n",
              "    [theme=dark] .colab-df-convert:hover {\n",
              "      background-color: #434B5C;\n",
              "      box-shadow: 0px 1px 3px 1px rgba(0, 0, 0, 0.15);\n",
              "      filter: drop-shadow(0px 1px 2px rgba(0, 0, 0, 0.3));\n",
              "      fill: #FFFFFF;\n",
              "    }\n",
              "  </style>\n",
              "\n",
              "      <script>\n",
              "        const buttonEl =\n",
              "          document.querySelector('#df-712102b4-b8b1-413a-bf87-57d2d39d03c0 button.colab-df-convert');\n",
              "        buttonEl.style.display =\n",
              "          google.colab.kernel.accessAllowed ? 'block' : 'none';\n",
              "\n",
              "        async function convertToInteractive(key) {\n",
              "          const element = document.querySelector('#df-712102b4-b8b1-413a-bf87-57d2d39d03c0');\n",
              "          const dataTable =\n",
              "            await google.colab.kernel.invokeFunction('convertToInteractive',\n",
              "                                                     [key], {});\n",
              "          if (!dataTable) return;\n",
              "\n",
              "          const docLinkHtml = 'Like what you see? Visit the ' +\n",
              "            '<a target=\"_blank\" href=https://colab.research.google.com/notebooks/data_table.ipynb>data table notebook</a>'\n",
              "            + ' to learn more about interactive tables.';\n",
              "          element.innerHTML = '';\n",
              "          dataTable['output_type'] = 'display_data';\n",
              "          await google.colab.output.renderOutput(dataTable, element);\n",
              "          const docLink = document.createElement('div');\n",
              "          docLink.innerHTML = docLinkHtml;\n",
              "          element.appendChild(docLink);\n",
              "        }\n",
              "      </script>\n",
              "    </div>\n",
              "  </div>\n",
              "  "
            ],
            "text/plain": [
              "         TempHighF     TempAvgF     TempLowF\n",
              "count  1319.000000  1319.000000  1319.000000\n",
              "mean     80.862775    70.642911    59.902957\n",
              "std      14.766523    14.045904    14.190648\n",
              "min      32.000000    29.000000    19.000000\n",
              "25%      72.000000    62.000000    49.000000\n",
              "50%      83.000000    73.000000    63.000000\n",
              "75%      92.000000    83.000000    73.000000\n",
              "max     107.000000    93.000000    81.000000"
            ]
          },
          "metadata": {},
          "execution_count": 320
        }
      ]
    },
    {
      "cell_type": "markdown",
      "source": [
        "Dataset Information "
      ],
      "metadata": {
        "id": "w4wiPOskJ1SG"
      }
    },
    {
      "cell_type": "code",
      "source": [
        "data.info()\n"
      ],
      "metadata": {
        "id": "dCJUPGZTJ6zi",
        "colab": {
          "base_uri": "https://localhost:8080/"
        },
        "outputId": "eda2ff52-5e58-4062-f736-555583d64074"
      },
      "execution_count": 321,
      "outputs": [
        {
          "output_type": "stream",
          "name": "stdout",
          "text": [
            "<class 'pandas.core.frame.DataFrame'>\n",
            "RangeIndex: 1319 entries, 0 to 1318\n",
            "Data columns (total 21 columns):\n",
            " #   Column                      Non-Null Count  Dtype         \n",
            "---  ------                      --------------  -----         \n",
            " 0   Date                        1319 non-null   datetime64[ns]\n",
            " 1   TempHighF                   1319 non-null   int64         \n",
            " 2   TempAvgF                    1319 non-null   int64         \n",
            " 3   TempLowF                    1319 non-null   int64         \n",
            " 4   DewPointHighF               1319 non-null   object        \n",
            " 5   DewPointAvgF                1319 non-null   object        \n",
            " 6   DewPointLowF                1319 non-null   object        \n",
            " 7   HumidityHighPercent         1319 non-null   object        \n",
            " 8   HumidityAvgPercent          1319 non-null   object        \n",
            " 9   HumidityLowPercent          1319 non-null   object        \n",
            " 10  SeaLevelPressureHighInches  1319 non-null   object        \n",
            " 11  SeaLevelPressureAvgInches   1319 non-null   object        \n",
            " 12  SeaLevelPressureLowInches   1319 non-null   object        \n",
            " 13  VisibilityHighMiles         1319 non-null   object        \n",
            " 14  VisibilityAvgMiles          1319 non-null   object        \n",
            " 15  VisibilityLowMiles          1319 non-null   object        \n",
            " 16  WindHighMPH                 1319 non-null   object        \n",
            " 17  WindAvgMPH                  1319 non-null   object        \n",
            " 18  WindGustMPH                 1319 non-null   object        \n",
            " 19  PrecipitationSumInches      1319 non-null   object        \n",
            " 20  Events                      1319 non-null   object        \n",
            "dtypes: datetime64[ns](1), int64(3), object(17)\n",
            "memory usage: 216.5+ KB\n"
          ]
        }
      ]
    },
    {
      "cell_type": "markdown",
      "source": [
        "Selecting Features for Corelation checking"
      ],
      "metadata": {
        "id": "SeL8mwfwJ7dU"
      }
    },
    {
      "cell_type": "code",
      "source": [
        "weather = data[['SeaLevelPressureAvgInches', 'DewPointAvgF', 'TempAvgF', 'HumidityAvgPercent']]\n",
        "print(weather)\n"
      ],
      "metadata": {
        "id": "B7RcxAuKKEWm",
        "colab": {
          "base_uri": "https://localhost:8080/"
        },
        "outputId": "aa09a7e6-7f1f-4d18-9c9f-3243b0b6ff11"
      },
      "execution_count": 322,
      "outputs": [
        {
          "output_type": "stream",
          "name": "stdout",
          "text": [
            "     SeaLevelPressureAvgInches DewPointAvgF  TempAvgF HumidityAvgPercent\n",
            "0                        29.68           49        60                 75\n",
            "1                        30.13           36        48                 68\n",
            "2                        30.49           27        45                 52\n",
            "3                        30.45           28        46                 56\n",
            "4                        30.33           40        50                 71\n",
            "...                        ...          ...       ...                ...\n",
            "1314                     29.97           67        89                 54\n",
            "1315                      29.9           64        91                 54\n",
            "1316                     29.86           64        92                 51\n",
            "1317                     29.91           68        93                 48\n",
            "1318                     29.97           61        88                 43\n",
            "\n",
            "[1319 rows x 4 columns]\n"
          ]
        }
      ]
    },
    {
      "cell_type": "markdown",
      "source": [
        "Corelation Matrix"
      ],
      "metadata": {
        "id": "pkhuXuMTKE6V"
      }
    },
    {
      "cell_type": "code",
      "source": [
        "correlation = weather.corr()\n",
        "print(correlation)\n"
      ],
      "metadata": {
        "id": "Dts3jdMRKJWq",
        "colab": {
          "base_uri": "https://localhost:8080/"
        },
        "outputId": "1ca62857-4478-4cea-d94a-4b8b6f13a425"
      },
      "execution_count": 323,
      "outputs": [
        {
          "output_type": "stream",
          "name": "stdout",
          "text": [
            "          TempAvgF\n",
            "TempAvgF       1.0\n"
          ]
        }
      ]
    },
    {
      "cell_type": "markdown",
      "source": [
        "Corelation Matrix Plotation"
      ],
      "metadata": {
        "id": "xiIteyo3KKQp"
      }
    },
    {
      "cell_type": "code",
      "source": [
        "sns.heatmap(weather.corr(),  cmap=\"YlGnBu\", vmax=.3, center=0,\n",
        "            square=True, linewidths=.5, cbar_kws={\"shrink\": .5})\n",
        "plt.show()\n"
      ],
      "metadata": {
        "id": "8vMDejOzKPwk",
        "colab": {
          "base_uri": "https://localhost:8080/",
          "height": 265
        },
        "outputId": "879d9f77-2991-498d-a173-5841f28f33e6"
      },
      "execution_count": 324,
      "outputs": [
        {
          "output_type": "display_data",
          "data": {
            "image/png": "[encoded data removed]",
            "text/plain": [
              "<Figure size 432x288 with 2 Axes>"
            ]
          },
          "metadata": {
            "needs_background": "light"
          }
        }
      ]
    },
    {
      "cell_type": "markdown",
      "source": [
        "Dependent Variable which should be predicted"
      ],
      "metadata": {
        "id": "Y7YWYQAiKQVu"
      }
    },
    {
      "cell_type": "code",
      "source": [
        "condition = data['Events'].str.contains(' ')"
      ],
      "metadata": {
        "id": "4sYNlk-5KYbK"
      },
      "execution_count": 325,
      "outputs": []
    },
    {
      "cell_type": "markdown",
      "source": [
        "Independent Variable "
      ],
      "metadata": {
        "id": "IS_NyCJCKY3y"
      }
    },
    {
      "cell_type": "code",
      "source": [
        "to_be_kept = ['Date','TempAvgF', 'DewPointAvgF', 'HumidityAvgPercent', 'SeaLevelPressureAvgInches', 'Events']\n"
      ],
      "metadata": {
        "id": "mXVJk-rzKg2T"
      },
      "execution_count": 326,
      "outputs": []
    },
    {
      "cell_type": "markdown",
      "source": [
        "Excluding Clear Weather "
      ],
      "metadata": {
        "id": "qyCS67RWKhhS"
      }
    },
    {
      "cell_type": "code",
      "source": [
        "polished_data = data[condition == False]\n"
      ],
      "metadata": {
        "id": "i3m1iPD7KmZ-"
      },
      "execution_count": 327,
      "outputs": []
    },
    {
      "cell_type": "markdown",
      "source": [
        "Keeping Choosen Column"
      ],
      "metadata": {
        "id": "WYRhbN22KnDJ"
      }
    },
    {
      "cell_type": "code",
      "source": [
        "polished_data = polished_data.loc[:, polished_data.columns.intersection(to_be_kept)]\n",
        "X = polished_data[set(list(polished_data.columns))-set(['Events', 'Date'])]\n",
        "y = polished_data['Events']\n",
        "\n"
      ],
      "metadata": {
        "id": "g3UN7ccuKvnD"
      },
      "execution_count": 328,
      "outputs": []
    },
    {
      "cell_type": "markdown",
      "source": [
        "X Plotting"
      ],
      "metadata": {
        "id": "N_44FRnkKwM4"
      }
    },
    {
      "cell_type": "code",
      "source": [
        "X.plot()\n"
      ],
      "metadata": {
        "id": "UsRzEny3Kz1z",
        "colab": {
          "base_uri": "https://localhost:8080/",
          "height": 282
        },
        "outputId": "83fcea92-67cd-48cd-c564-042f2f0a6ebb"
      },
      "execution_count": 329,
      "outputs": [
        {
          "output_type": "execute_result",
          "data": {
            "text/plain": [
              "<matplotlib.axes._subplots.AxesSubplot at 0x7f9b3f61fdd0>"
            ]
          },
          "metadata": {},
          "execution_count": 329
        },
        {
          "output_type": "display_data",
          "data": {
            "image/png": "[encoded data removed]",
            "text/plain": [
              "<Figure size 432x288 with 1 Axes>"
            ]
          },
          "metadata": {
            "needs_background": "light"
          }
        }
      ]
    },
    {
      "cell_type": "markdown",
      "source": [
        "This function generates n = len(max_depths) decision trees. Each of depth max_depths[i]\n",
        "Fits on x_train, y_train, predicts on x_test\n",
        "Returns classifiers and predictions\n"
      ],
      "metadata": {
        "id": "0zyYOn1SK0Xd"
      }
    },
    {
      "cell_type": "code",
      "source": [
        "def many_decision_trees(max_depths, criterion, x_train, y_train, x_test, y_test):\n",
        "    clf_array = []\n",
        "    predictions_array = []\n",
        "    \n",
        "    for depth in max_depths:\n",
        "        clf = tree.DecisionTreeClassifier(max_depth=depth, criterion=criterion)\n",
        "        clf = clf.fit(x_train, y_train) \n",
        "        prediction = clf.predict(x_test)\n",
        "        \n",
        "        print('Tree depth: {} Accuracy: {}'.format(depth, accuracy_score(y_test, prediction)))\n",
        "        \n",
        "        clf_array.append(clf)\n",
        "        predictions_array.append(prediction)\n",
        "    return clf_array, predictions_array\n"
      ],
      "metadata": {
        "id": "rlgXJjWCLBI5"
      },
      "execution_count": 330,
      "outputs": []
    },
    {
      "cell_type": "markdown",
      "source": [
        "Dataset Splitting "
      ],
      "metadata": {
        "id": "hRaN51M8LEyt"
      }
    },
    {
      "cell_type": "code",
      "source": [
        "X_train, X_test, y_train, y_test = train_test_split(X, y, test_size=0.33, random_state=42)\n"
      ],
      "metadata": {
        "id": "5smbuS03LIxu"
      },
      "execution_count": 331,
      "outputs": []
    },
    {
      "cell_type": "markdown",
      "source": [
        "Defining Depth range"
      ],
      "metadata": {
        "id": "M2pav-XLLJSf"
      }
    },
    {
      "cell_type": "code",
      "source": [
        "depths = list(range(3, 8))\n"
      ],
      "metadata": {
        "id": "joq2DNX7LNKu"
      },
      "execution_count": 332,
      "outputs": []
    },
    {
      "cell_type": "markdown",
      "source": [
        "Lets try the decision tree, first predicting on training data\n",
        "Evalauating the prediction regarding tree on the training dataset\n"
      ],
      "metadata": {
        "id": "op_wXaSjLNvY"
      }
    },
    {
      "cell_type": "code",
      "source": [
        "print('Prediction on training data -------------------------')\n",
        "clfs_tr, predictions_tr = many_decision_trees(depths, 'entropy', X_train, y_train, X_train, y_train) \n"
      ],
      "metadata": {
        "id": "zMhvYTbDLUBS",
        "colab": {
          "base_uri": "https://localhost:8080/"
        },
        "outputId": "28fdef7a-1f79-4e3b-a557-998e1ff31196"
      },
      "execution_count": 333,
      "outputs": [
        {
          "output_type": "stream",
          "name": "stdout",
          "text": [
            "Prediction on training data -------------------------\n",
            "Tree depth: 3 Accuracy: 0.8961038961038961\n",
            "Tree depth: 4 Accuracy: 0.9025974025974026\n",
            "Tree depth: 5 Accuracy: 0.9090909090909091\n",
            "Tree depth: 6 Accuracy: 0.935064935064935\n",
            "Tree depth: 7 Accuracy: 0.961038961038961\n"
          ]
        }
      ]
    },
    {
      "cell_type": "markdown",
      "source": [
        "Prediction on testing datasets"
      ],
      "metadata": {
        "id": "yt9A8KzjLWao"
      }
    },
    {
      "cell_type": "code",
      "source": [
        "print('\\nPrediction on test data -----------------------------')\n",
        "clfs_te, predictions_te = many_decision_trees(depths, 'entropy', X_train, y_train, X_test, y_test)\n",
        "\n"
      ],
      "metadata": {
        "id": "gePA_YK0LdHz",
        "colab": {
          "base_uri": "https://localhost:8080/"
        },
        "outputId": "305a6c28-1196-42db-84fe-e033af8133e7"
      },
      "execution_count": 334,
      "outputs": [
        {
          "output_type": "stream",
          "name": "stdout",
          "text": [
            "\n",
            "Prediction on test data -----------------------------\n",
            "Tree depth: 3 Accuracy: 0.8157894736842105\n",
            "Tree depth: 4 Accuracy: 0.8157894736842105\n",
            "Tree depth: 5 Accuracy: 0.8157894736842105\n",
            "Tree depth: 6 Accuracy: 0.7894736842105263\n",
            "Tree depth: 7 Accuracy: 0.7894736842105263\n"
          ]
        }
      ]
    },
    {
      "cell_type": "markdown",
      "source": [
        "Founding Class"
      ],
      "metadata": {
        "id": "qCxSTp9jLdzl"
      }
    },
    {
      "cell_type": "code",
      "source": [
        "print('Classes: {}'.format(clfs_te[0].classes_))\n",
        "print('Features: {}'.format(list(X)))\n"
      ],
      "metadata": {
        "id": "qvK9VLLpLiA7",
        "colab": {
          "base_uri": "https://localhost:8080/"
        },
        "outputId": "8bf1dc39-d04d-430a-e8de-ef36b741cba5"
      },
      "execution_count": 335,
      "outputs": [
        {
          "output_type": "stream",
          "name": "stdout",
          "text": [
            "Classes: ['Fog' 'Rain' 'Thunderstorm']\n",
            "Features: ['TempAvgF', 'HumidityAvgPercent', 'DewPointAvgF', 'SeaLevelPressureAvgInches']\n"
          ]
        }
      ]
    },
    {
      "cell_type": "markdown",
      "source": [
        "Decision Tree Graph Plotation"
      ],
      "metadata": {
        "id": "7K6AtzD3Likh"
      }
    },
    {
      "cell_type": "code",
      "source": [
        "dot_data = tree.export_graphviz(clfs_te[0], out_file=None, rounded=True, class_names=clfs_te[0].classes_, \n",
        "                                feature_names=list(X), filled=True)\n",
        "graph = graphviz.Source(dot_data) \n",
        "graph\n"
      ],
      "metadata": {
        "id": "TOXj7xloLtkc",
        "colab": {
          "base_uri": "https://localhost:8080/",
          "height": 598
        },
        "outputId": "51bebf36-f508-4b54-c8c2-ed41e907e4a2"
      },
      "execution_count": 336,
      "outputs": [
        {
          "output_type": "execute_result",
          "data": {
            "text/plain": [
              "<graphviz.files.Source at 0x7f9b3ea62550>"
            ],
            "image/svg+xml": "<?xml version=\"1.0\" encoding=\"UTF-8\" standalone=\"no\"?>\n<!DOCTYPE svg PUBLIC \"-//W3C//DTD SVG 1.1//EN\"\n \"http://www.w3.org/Graphics/SVG/1.1/DTD/svg11.dtd\">\n<!-- Generated by graphviz version 2.40.1 (20161225.0304)\n -->\n<!-- Title: Tree Pages: 1 -->\n<svg width=\"941pt\" height=\"433pt\"\n viewBox=\"0.00 0.00 941.00 433.00\" xmlns=\"http://www.w3.org/2000/svg\" xmlns:xlink=\"http://www.w3.org/1999/xlink\">\n<g id=\"graph0\" class=\"graph\" transform=\"scale(1 1) rotate(0) translate(4 429)\">\n<title>Tree</title>\n<polygon fill=\"#ffffff\" stroke=\"transparent\" points=\"-4,4 -4,-429 937,-429 937,4 -4,4\"/>\n<!-- 0 -->\n<g id=\"node1\" class=\"node\">\n<title>0</title>\n<path fill=\"#58e995\" stroke=\"#000000\" d=\"M532.5,-425C532.5,-425 416.5,-425 416.5,-425 410.5,-425 404.5,-419 404.5,-413 404.5,-413 404.5,-354 404.5,-354 404.5,-348 410.5,-342 416.5,-342 416.5,-342 532.5,-342 532.5,-342 538.5,-342 544.5,-348 544.5,-354 544.5,-354 544.5,-413 544.5,-413 544.5,-419 538.5,-425 532.5,-425\"/>\n<text text-anchor=\"middle\" x=\"474.5\" y=\"-409.8\" font-family=\"Helvetica,sans-Serif\" font-size=\"14.00\" fill=\"#000000\">TempAvgF &lt;= 75.5</text>\n<text text-anchor=\"middle\" x=\"474.5\" y=\"-394.8\" font-family=\"Helvetica,sans-Serif\" font-size=\"14.00\" fill=\"#000000\">entropy = 0.731</text>\n<text text-anchor=\"middle\" x=\"474.5\" y=\"-379.8\" font-family=\"Helvetica,sans-Serif\" font-size=\"14.00\" fill=\"#000000\">samples = 154</text>\n<text text-anchor=\"middle\" x=\"474.5\" y=\"-364.8\" font-family=\"Helvetica,sans-Serif\" font-size=\"14.00\" fill=\"#000000\">value = [9, 132, 13]</text>\n<text text-anchor=\"middle\" x=\"474.5\" y=\"-349.8\" font-family=\"Helvetica,sans-Serif\" font-size=\"14.00\" fill=\"#000000\">class = Rain</text>\n</g>\n<!-- 1 -->\n<g id=\"node2\" class=\"node\">\n<title>1</title>\n<path fill=\"#50e88f\" stroke=\"#000000\" d=\"M454,-306C454,-306 277,-306 277,-306 271,-306 265,-300 265,-294 265,-294 265,-235 265,-235 265,-229 271,-223 277,-223 277,-223 454,-223 454,-223 460,-223 466,-229 466,-235 466,-235 466,-294 466,-294 466,-300 460,-306 454,-306\"/>\n<text text-anchor=\"middle\" x=\"365.5\" y=\"-290.8\" font-family=\"Helvetica,sans-Serif\" font-size=\"14.00\" fill=\"#000000\">HumidityAvgPercent &lt;= 46.0</text>\n<text text-anchor=\"middle\" x=\"365.5\" y=\"-275.8\" font-family=\"Helvetica,sans-Serif\" font-size=\"14.00\" fill=\"#000000\">entropy = 0.556</text>\n<text text-anchor=\"middle\" x=\"365.5\" y=\"-260.8\" font-family=\"Helvetica,sans-Serif\" font-size=\"14.00\" fill=\"#000000\">samples = 105</text>\n<text text-anchor=\"middle\" x=\"365.5\" y=\"-245.8\" font-family=\"Helvetica,sans-Serif\" font-size=\"14.00\" fill=\"#000000\">value = [9, 94, 2]</text>\n<text text-anchor=\"middle\" x=\"365.5\" y=\"-230.8\" font-family=\"Helvetica,sans-Serif\" font-size=\"14.00\" fill=\"#000000\">class = Rain</text>\n</g>\n<!-- 0&#45;&gt;1 -->\n<g id=\"edge1\" class=\"edge\">\n<title>0&#45;&gt;1</title>\n<path fill=\"none\" stroke=\"#000000\" d=\"M436.3771,-341.8796C428.0451,-332.7832 419.1502,-323.0722 410.5761,-313.7116\"/>\n<polygon fill=\"#000000\" stroke=\"#000000\" points=\"413.1211,-311.3081 403.7856,-306.2981 407.9592,-316.0363 413.1211,-311.3081\"/>\n<text text-anchor=\"middle\" x=\"402.6902\" y=\"-327.5741\" font-family=\"Helvetica,sans-Serif\" font-size=\"14.00\" fill=\"#000000\">True</text>\n</g>\n<!-- 8 -->\n<g id=\"node9\" class=\"node\">\n<title>8</title>\n<path fill=\"#72eda5\" stroke=\"#000000\" d=\"M673,-306C673,-306 496,-306 496,-306 490,-306 484,-300 484,-294 484,-294 484,-235 484,-235 484,-229 490,-223 496,-223 496,-223 673,-223 673,-223 679,-223 685,-229 685,-235 685,-235 685,-294 685,-294 685,-300 679,-306 673,-306\"/>\n<text text-anchor=\"middle\" x=\"584.5\" y=\"-290.8\" font-family=\"Helvetica,sans-Serif\" font-size=\"14.00\" fill=\"#000000\">HumidityAvgPercent &lt;= 61.5</text>\n<text text-anchor=\"middle\" x=\"584.5\" y=\"-275.8\" font-family=\"Helvetica,sans-Serif\" font-size=\"14.00\" fill=\"#000000\">entropy = 0.768</text>\n<text text-anchor=\"middle\" x=\"584.5\" y=\"-260.8\" font-family=\"Helvetica,sans-Serif\" font-size=\"14.00\" fill=\"#000000\">samples = 49</text>\n<text text-anchor=\"middle\" x=\"584.5\" y=\"-245.8\" font-family=\"Helvetica,sans-Serif\" font-size=\"14.00\" fill=\"#000000\">value = [0, 38, 11]</text>\n<text text-anchor=\"middle\" x=\"584.5\" y=\"-230.8\" font-family=\"Helvetica,sans-Serif\" font-size=\"14.00\" fill=\"#000000\">class = Rain</text>\n</g>\n<!-- 0&#45;&gt;8 -->\n<g id=\"edge8\" class=\"edge\">\n<title>0&#45;&gt;8</title>\n<path fill=\"none\" stroke=\"#000000\" d=\"M512.9727,-341.8796C521.3811,-332.7832 530.3576,-323.0722 539.0103,-313.7116\"/>\n<polygon fill=\"#000000\" stroke=\"#000000\" points=\"541.6453,-316.0172 545.8631,-306.2981 536.505,-311.2656 541.6453,-316.0172\"/>\n<text text-anchor=\"middle\" x=\"546.8449\" y=\"-327.5788\" font-family=\"Helvetica,sans-Serif\" font-size=\"14.00\" fill=\"#000000\">False</text>\n</g>\n<!-- 2 -->\n<g id=\"node3\" class=\"node\">\n<title>2</title>\n<path fill=\"#ffffff\" stroke=\"#000000\" d=\"M278.5,-187C278.5,-187 136.5,-187 136.5,-187 130.5,-187 124.5,-181 124.5,-175 124.5,-175 124.5,-116 124.5,-116 124.5,-110 130.5,-104 136.5,-104 136.5,-104 278.5,-104 278.5,-104 284.5,-104 290.5,-110 290.5,-116 290.5,-116 290.5,-175 290.5,-175 290.5,-181 284.5,-187 278.5,-187\"/>\n<text text-anchor=\"middle\" x=\"207.5\" y=\"-171.8\" font-family=\"Helvetica,sans-Serif\" font-size=\"14.00\" fill=\"#000000\">DewPointAvgF &lt;= 37.0</text>\n<text text-anchor=\"middle\" x=\"207.5\" y=\"-156.8\" font-family=\"Helvetica,sans-Serif\" font-size=\"14.00\" fill=\"#000000\">entropy = 1.0</text>\n<text text-anchor=\"middle\" x=\"207.5\" y=\"-141.8\" font-family=\"Helvetica,sans-Serif\" font-size=\"14.00\" fill=\"#000000\">samples = 2</text>\n<text text-anchor=\"middle\" x=\"207.5\" y=\"-126.8\" font-family=\"Helvetica,sans-Serif\" font-size=\"14.00\" fill=\"#000000\">value = [0, 1, 1]</text>\n<text text-anchor=\"middle\" x=\"207.5\" y=\"-111.8\" font-family=\"Helvetica,sans-Serif\" font-size=\"14.00\" fill=\"#000000\">class = Rain</text>\n</g>\n<!-- 1&#45;&gt;2 -->\n<g id=\"edge2\" class=\"edge\">\n<title>1&#45;&gt;2</title>\n<path fill=\"none\" stroke=\"#000000\" d=\"M310.2393,-222.8796C297.4901,-213.2774 283.8317,-202.9903 270.7709,-193.1534\"/>\n<polygon fill=\"#000000\" stroke=\"#000000\" points=\"272.8231,-190.3174 262.7295,-187.0969 268.6117,-195.9089 272.8231,-190.3174\"/>\n</g>\n<!-- 5 -->\n<g id=\"node6\" class=\"node\">\n<title>5</title>\n<path fill=\"#4ee88e\" stroke=\"#000000\" d=\"M436.5,-187C436.5,-187 320.5,-187 320.5,-187 314.5,-187 308.5,-181 308.5,-175 308.5,-175 308.5,-116 308.5,-116 308.5,-110 314.5,-104 320.5,-104 320.5,-104 436.5,-104 436.5,-104 442.5,-104 448.5,-110 448.5,-116 448.5,-116 448.5,-175 448.5,-175 448.5,-181 442.5,-187 436.5,-187\"/>\n<text text-anchor=\"middle\" x=\"378.5\" y=\"-171.8\" font-family=\"Helvetica,sans-Serif\" font-size=\"14.00\" fill=\"#000000\">TempAvgF &lt;= 61.5</text>\n<text text-anchor=\"middle\" x=\"378.5\" y=\"-156.8\" font-family=\"Helvetica,sans-Serif\" font-size=\"14.00\" fill=\"#000000\">entropy = 0.505</text>\n<text text-anchor=\"middle\" x=\"378.5\" y=\"-141.8\" font-family=\"Helvetica,sans-Serif\" font-size=\"14.00\" fill=\"#000000\">samples = 103</text>\n<text text-anchor=\"middle\" x=\"378.5\" y=\"-126.8\" font-family=\"Helvetica,sans-Serif\" font-size=\"14.00\" fill=\"#000000\">value = [9, 93, 1]</text>\n<text text-anchor=\"middle\" x=\"378.5\" y=\"-111.8\" font-family=\"Helvetica,sans-Serif\" font-size=\"14.00\" fill=\"#000000\">class = Rain</text>\n</g>\n<!-- 1&#45;&gt;5 -->\n<g id=\"edge5\" class=\"edge\">\n<title>1&#45;&gt;5</title>\n<path fill=\"none\" stroke=\"#000000\" d=\"M370.0468,-222.8796C370.9421,-214.6838 371.8919,-205.9891 372.8192,-197.5013\"/>\n<polygon fill=\"#000000\" stroke=\"#000000\" points=\"376.3271,-197.6191 373.9338,-187.2981 369.3685,-196.8588 376.3271,-197.6191\"/>\n</g>\n<!-- 3 -->\n<g id=\"node4\" class=\"node\">\n<title>3</title>\n<path fill=\"#39e581\" stroke=\"#000000\" d=\"M103,-68C103,-68 12,-68 12,-68 6,-68 0,-62 0,-56 0,-56 0,-12 0,-12 0,-6 6,0 12,0 12,0 103,0 103,0 109,0 115,-6 115,-12 115,-12 115,-56 115,-56 115,-62 109,-68 103,-68\"/>\n<text text-anchor=\"middle\" x=\"57.5\" y=\"-52.8\" font-family=\"Helvetica,sans-Serif\" font-size=\"14.00\" fill=\"#000000\">entropy = 0.0</text>\n<text text-anchor=\"middle\" x=\"57.5\" y=\"-37.8\" font-family=\"Helvetica,sans-Serif\" font-size=\"14.00\" fill=\"#000000\">samples = 1</text>\n<text text-anchor=\"middle\" x=\"57.5\" y=\"-22.8\" font-family=\"Helvetica,sans-Serif\" font-size=\"14.00\" fill=\"#000000\">value = [0, 1, 0]</text>\n<text text-anchor=\"middle\" x=\"57.5\" y=\"-7.8\" font-family=\"Helvetica,sans-Serif\" font-size=\"14.00\" fill=\"#000000\">class = Rain</text>\n</g>\n<!-- 2&#45;&gt;3 -->\n<g id=\"edge3\" class=\"edge\">\n<title>2&#45;&gt;3</title>\n<path fill=\"none\" stroke=\"#000000\" d=\"M151.6455,-103.9815C138.6632,-94.3313 124.8606,-84.0714 111.9403,-74.4673\"/>\n<polygon fill=\"#000000\" stroke=\"#000000\" points=\"113.7083,-71.4204 103.5946,-68.2637 109.5322,-77.0384 113.7083,-71.4204\"/>\n</g>\n<!-- 4 -->\n<g id=\"node5\" class=\"node\">\n<title>4</title>\n<path fill=\"#8139e5\" stroke=\"#000000\" d=\"M278,-68C278,-68 145,-68 145,-68 139,-68 133,-62 133,-56 133,-56 133,-12 133,-12 133,-6 139,0 145,0 145,0 278,0 278,0 284,0 290,-6 290,-12 290,-12 290,-56 290,-56 290,-62 284,-68 278,-68\"/>\n<text text-anchor=\"middle\" x=\"211.5\" y=\"-52.8\" font-family=\"Helvetica,sans-Serif\" font-size=\"14.00\" fill=\"#000000\">entropy = 0.0</text>\n<text text-anchor=\"middle\" x=\"211.5\" y=\"-37.8\" font-family=\"Helvetica,sans-Serif\" font-size=\"14.00\" fill=\"#000000\">samples = 1</text>\n<text text-anchor=\"middle\" x=\"211.5\" y=\"-22.8\" font-family=\"Helvetica,sans-Serif\" font-size=\"14.00\" fill=\"#000000\">value = [0, 0, 1]</text>\n<text text-anchor=\"middle\" x=\"211.5\" y=\"-7.8\" font-family=\"Helvetica,sans-Serif\" font-size=\"14.00\" fill=\"#000000\">class = Thunderstorm</text>\n</g>\n<!-- 2&#45;&gt;4 -->\n<g id=\"edge4\" class=\"edge\">\n<title>2&#45;&gt;4</title>\n<path fill=\"none\" stroke=\"#000000\" d=\"M208.9895,-103.9815C209.2895,-95.618 209.606,-86.7965 209.9093,-78.3409\"/>\n<polygon fill=\"#000000\" stroke=\"#000000\" points=\"213.41,-78.3828 210.2708,-68.2637 206.4145,-78.1317 213.41,-78.3828\"/>\n</g>\n<!-- 6 -->\n<g id=\"node7\" class=\"node\">\n<title>6</title>\n<path fill=\"#42e686\" stroke=\"#000000\" d=\"M425,-68C425,-68 326,-68 326,-68 320,-68 314,-62 314,-56 314,-56 314,-12 314,-12 314,-6 320,0 326,0 326,0 425,0 425,0 431,0 437,-6 437,-12 437,-12 437,-56 437,-56 437,-62 431,-68 425,-68\"/>\n<text text-anchor=\"middle\" x=\"375.5\" y=\"-52.8\" font-family=\"Helvetica,sans-Serif\" font-size=\"14.00\" fill=\"#000000\">entropy = 0.296</text>\n<text text-anchor=\"middle\" x=\"375.5\" y=\"-37.8\" font-family=\"Helvetica,sans-Serif\" font-size=\"14.00\" fill=\"#000000\">samples = 47</text>\n<text text-anchor=\"middle\" x=\"375.5\" y=\"-22.8\" font-family=\"Helvetica,sans-Serif\" font-size=\"14.00\" fill=\"#000000\">value = [1, 45, 1]</text>\n<text text-anchor=\"middle\" x=\"375.5\" y=\"-7.8\" font-family=\"Helvetica,sans-Serif\" font-size=\"14.00\" fill=\"#000000\">class = Rain</text>\n</g>\n<!-- 5&#45;&gt;6 -->\n<g id=\"edge6\" class=\"edge\">\n<title>5&#45;&gt;6</title>\n<path fill=\"none\" stroke=\"#000000\" d=\"M377.3829,-103.9815C377.1579,-95.618 376.9205,-86.7965 376.693,-78.3409\"/>\n<polygon fill=\"#000000\" stroke=\"#000000\" points=\"380.1897,-78.1659 376.4219,-68.2637 373.1922,-78.3542 380.1897,-78.1659\"/>\n</g>\n<!-- 7 -->\n<g id=\"node8\" class=\"node\">\n<title>7</title>\n<path fill=\"#5ae996\" stroke=\"#000000\" d=\"M566,-68C566,-68 467,-68 467,-68 461,-68 455,-62 455,-56 455,-56 455,-12 455,-12 455,-6 461,0 467,0 467,0 566,0 566,0 572,0 578,-6 578,-12 578,-12 578,-56 578,-56 578,-62 572,-68 566,-68\"/>\n<text text-anchor=\"middle\" x=\"516.5\" y=\"-52.8\" font-family=\"Helvetica,sans-Serif\" font-size=\"14.00\" fill=\"#000000\">entropy = 0.592</text>\n<text text-anchor=\"middle\" x=\"516.5\" y=\"-37.8\" font-family=\"Helvetica,sans-Serif\" font-size=\"14.00\" fill=\"#000000\">samples = 56</text>\n<text text-anchor=\"middle\" x=\"516.5\" y=\"-22.8\" font-family=\"Helvetica,sans-Serif\" font-size=\"14.00\" fill=\"#000000\">value = [8, 48, 0]</text>\n<text text-anchor=\"middle\" x=\"516.5\" y=\"-7.8\" font-family=\"Helvetica,sans-Serif\" font-size=\"14.00\" fill=\"#000000\">class = Rain</text>\n</g>\n<!-- 5&#45;&gt;7 -->\n<g id=\"edge7\" class=\"edge\">\n<title>5&#45;&gt;7</title>\n<path fill=\"none\" stroke=\"#000000\" d=\"M429.8861,-103.9815C441.7161,-94.4232 454.2864,-84.2668 466.0751,-74.7419\"/>\n<polygon fill=\"#000000\" stroke=\"#000000\" points=\"468.5142,-77.2708 474.0929,-68.2637 464.1149,-71.826 468.5142,-77.2708\"/>\n</g>\n<!-- 9 -->\n<g id=\"node10\" class=\"node\">\n<title>9</title>\n<path fill=\"#8139e5\" stroke=\"#000000\" d=\"M638,-179.5C638,-179.5 505,-179.5 505,-179.5 499,-179.5 493,-173.5 493,-167.5 493,-167.5 493,-123.5 493,-123.5 493,-117.5 499,-111.5 505,-111.5 505,-111.5 638,-111.5 638,-111.5 644,-111.5 650,-117.5 650,-123.5 650,-123.5 650,-167.5 650,-167.5 650,-173.5 644,-179.5 638,-179.5\"/>\n<text text-anchor=\"middle\" x=\"571.5\" y=\"-164.3\" font-family=\"Helvetica,sans-Serif\" font-size=\"14.00\" fill=\"#000000\">entropy = 0.0</text>\n<text text-anchor=\"middle\" x=\"571.5\" y=\"-149.3\" font-family=\"Helvetica,sans-Serif\" font-size=\"14.00\" fill=\"#000000\">samples = 4</text>\n<text text-anchor=\"middle\" x=\"571.5\" y=\"-134.3\" font-family=\"Helvetica,sans-Serif\" font-size=\"14.00\" fill=\"#000000\">value = [0, 0, 4]</text>\n<text text-anchor=\"middle\" x=\"571.5\" y=\"-119.3\" font-family=\"Helvetica,sans-Serif\" font-size=\"14.00\" fill=\"#000000\">class = Thunderstorm</text>\n</g>\n<!-- 8&#45;&gt;9 -->\n<g id=\"edge9\" class=\"edge\">\n<title>8&#45;&gt;9</title>\n<path fill=\"none\" stroke=\"#000000\" d=\"M579.9532,-222.8796C578.788,-212.2134 577.5305,-200.7021 576.3506,-189.9015\"/>\n<polygon fill=\"#000000\" stroke=\"#000000\" points=\"579.8141,-189.3757 575.2487,-179.8149 572.8555,-190.1359 579.8141,-189.3757\"/>\n</g>\n<!-- 10 -->\n<g id=\"node11\" class=\"node\">\n<title>10</title>\n<path fill=\"#5dea98\" stroke=\"#000000\" d=\"M822.5,-187C822.5,-187 680.5,-187 680.5,-187 674.5,-187 668.5,-181 668.5,-175 668.5,-175 668.5,-116 668.5,-116 668.5,-110 674.5,-104 680.5,-104 680.5,-104 822.5,-104 822.5,-104 828.5,-104 834.5,-110 834.5,-116 834.5,-116 834.5,-175 834.5,-175 834.5,-181 828.5,-187 822.5,-187\"/>\n<text text-anchor=\"middle\" x=\"751.5\" y=\"-171.8\" font-family=\"Helvetica,sans-Serif\" font-size=\"14.00\" fill=\"#000000\">DewPointAvgF &lt;= 63.0</text>\n<text text-anchor=\"middle\" x=\"751.5\" y=\"-156.8\" font-family=\"Helvetica,sans-Serif\" font-size=\"14.00\" fill=\"#000000\">entropy = 0.624</text>\n<text text-anchor=\"middle\" x=\"751.5\" y=\"-141.8\" font-family=\"Helvetica,sans-Serif\" font-size=\"14.00\" fill=\"#000000\">samples = 45</text>\n<text text-anchor=\"middle\" x=\"751.5\" y=\"-126.8\" font-family=\"Helvetica,sans-Serif\" font-size=\"14.00\" fill=\"#000000\">value = [0, 38, 7]</text>\n<text text-anchor=\"middle\" x=\"751.5\" y=\"-111.8\" font-family=\"Helvetica,sans-Serif\" font-size=\"14.00\" fill=\"#000000\">class = Rain</text>\n</g>\n<!-- 8&#45;&gt;10 -->\n<g id=\"edge10\" class=\"edge\">\n<title>8&#45;&gt;10</title>\n<path fill=\"none\" stroke=\"#000000\" d=\"M642.9085,-222.8796C656.3839,-213.2774 670.8203,-202.9903 684.625,-193.1534\"/>\n<polygon fill=\"#000000\" stroke=\"#000000\" points=\"687.0117,-195.7505 693.1245,-187.0969 682.9494,-190.0497 687.0117,-195.7505\"/>\n</g>\n<!-- 11 -->\n<g id=\"node12\" class=\"node\">\n<title>11</title>\n<path fill=\"#8139e5\" stroke=\"#000000\" d=\"M780,-68C780,-68 647,-68 647,-68 641,-68 635,-62 635,-56 635,-56 635,-12 635,-12 635,-6 641,0 647,0 647,0 780,0 780,0 786,0 792,-6 792,-12 792,-12 792,-56 792,-56 792,-62 786,-68 780,-68\"/>\n<text text-anchor=\"middle\" x=\"713.5\" y=\"-52.8\" font-family=\"Helvetica,sans-Serif\" font-size=\"14.00\" fill=\"#000000\">entropy = 0.0</text>\n<text text-anchor=\"middle\" x=\"713.5\" y=\"-37.8\" font-family=\"Helvetica,sans-Serif\" font-size=\"14.00\" fill=\"#000000\">samples = 1</text>\n<text text-anchor=\"middle\" x=\"713.5\" y=\"-22.8\" font-family=\"Helvetica,sans-Serif\" font-size=\"14.00\" fill=\"#000000\">value = [0, 0, 1]</text>\n<text text-anchor=\"middle\" x=\"713.5\" y=\"-7.8\" font-family=\"Helvetica,sans-Serif\" font-size=\"14.00\" fill=\"#000000\">class = Thunderstorm</text>\n</g>\n<!-- 10&#45;&gt;11 -->\n<g id=\"edge11\" class=\"edge\">\n<title>10&#45;&gt;11</title>\n<path fill=\"none\" stroke=\"#000000\" d=\"M737.3502,-103.9815C734.4372,-95.4342 731.3612,-86.4086 728.4219,-77.7839\"/>\n<polygon fill=\"#000000\" stroke=\"#000000\" points=\"731.7161,-76.6 725.1773,-68.2637 725.0904,-78.8582 731.7161,-76.6\"/>\n</g>\n<!-- 12 -->\n<g id=\"node13\" class=\"node\">\n<title>12</title>\n<path fill=\"#58e995\" stroke=\"#000000\" d=\"M921,-68C921,-68 822,-68 822,-68 816,-68 810,-62 810,-56 810,-56 810,-12 810,-12 810,-6 816,0 822,0 822,0 921,0 921,0 927,0 933,-6 933,-12 933,-12 933,-56 933,-56 933,-62 927,-68 921,-68\"/>\n<text text-anchor=\"middle\" x=\"871.5\" y=\"-52.8\" font-family=\"Helvetica,sans-Serif\" font-size=\"14.00\" fill=\"#000000\">entropy = 0.575</text>\n<text text-anchor=\"middle\" x=\"871.5\" y=\"-37.8\" font-family=\"Helvetica,sans-Serif\" font-size=\"14.00\" fill=\"#000000\">samples = 44</text>\n<text text-anchor=\"middle\" x=\"871.5\" y=\"-22.8\" font-family=\"Helvetica,sans-Serif\" font-size=\"14.00\" fill=\"#000000\">value = [0, 38, 6]</text>\n<text text-anchor=\"middle\" x=\"871.5\" y=\"-7.8\" font-family=\"Helvetica,sans-Serif\" font-size=\"14.00\" fill=\"#000000\">class = Rain</text>\n</g>\n<!-- 10&#45;&gt;12 -->\n<g id=\"edge12\" class=\"edge\">\n<title>10&#45;&gt;12</title>\n<path fill=\"none\" stroke=\"#000000\" d=\"M796.1836,-103.9815C806.2727,-94.607 816.981,-84.6572 827.0601,-75.2921\"/>\n<polygon fill=\"#000000\" stroke=\"#000000\" points=\"829.6809,-77.6346 834.6243,-68.2637 824.9161,-72.5065 829.6809,-77.6346\"/>\n</g>\n</g>\n</svg>\n"
          },
          "metadata": {},
          "execution_count": 336
        }
      ]
    }
  ]
}